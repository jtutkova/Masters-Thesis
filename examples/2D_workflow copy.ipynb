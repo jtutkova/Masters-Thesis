{
 "cells": [
  {
   "cell_type": "code",
   "execution_count": 58,
   "metadata": {},
   "outputs": [],
   "source": [
    "import sympy as sp\n",
    "from IPython.display import display, Math\n",
    "import math as m\n",
    "import time\n",
    "start_time = time.time()"
   ]
  },
  {
   "cell_type": "code",
   "execution_count": 59,
   "metadata": {},
   "outputs": [],
   "source": [
    "# x, y sú súradnice bodov v R^2\n",
    "x, y = sp.symbols('x y')\n",
    "# t je parameter z intervalu I\n",
    "t = sp.Symbol('t')\n",
    "# a, b sú konštanty pre škálovanie elipsoidu, a - dotykový smer, b - normálový smer\n",
    "a, b = sp.symbols('a b')\n",
    "# všetky ostatné symboly sú parametre v parametrizácii krivky parametric_curve\n",
    "c, d = sp.symbols('c d')"
   ]
  },
  {
   "cell_type": "code",
   "execution_count": 60,
   "metadata": {},
   "outputs": [],
   "source": [
    "# Vstupné parametre\n",
    "# interval vyčíslenia krivky\n",
    "t_min = -10\n",
    "t_max = 10\n",
    "# parametre škálovania\n",
    "a_0 = 2\n",
    "b_0 = 1\n",
    "# parametre parametrizácie\n",
    "c_0 = 2\n",
    "d_0 = 1\n",
    "\n",
    "# parametrizácia krivky\n",
    "parametric_curve = sp.Matrix([sp.cos(t), sp.sin(t)]) \n",
    "#curve_name = 'parabola'"
   ]
  },
  {
   "cell_type": "code",
   "execution_count": 61,
   "metadata": {},
   "outputs": [],
   "source": [
    "# Vypočíta dotyčnicu a normálu pre parametric_curve\n",
    "def local_coordinate_system(parametric_curve): \n",
    "    t = sp.Symbol('t') \n",
    "    parametric_curve_first_derivation = sp.diff(parametric_curve, t)\n",
    "    T = parametric_curve_first_derivation / sp.sqrt(parametric_curve_first_derivation.dot(parametric_curve_first_derivation))\n",
    "    T = sp.simplify(T)\n",
    "    N = sp.Matrix([-T[1], T[0]])\n",
    "    N = sp.simplify(N)\n",
    "    return T, N\n",
    "\n",
    "# Vyrobí inverznú maticu prechodu \n",
    "def transition_matrix(T, N):\n",
    "    P = sp.Matrix.hstack(T, N)\n",
    "    return P.T\n",
    "\n",
    "def matrix_of_quadrics_homogenization(A, B, C, D, E, F):\n",
    "    row1 = [A, B/2, D/2]\n",
    "    row2 = [B/2, C, E/2]\n",
    "    row3 = [D/2, E/2, F]\n",
    "    matrix = sp.Matrix([row1, row2, row3])\n",
    "    return matrix\n",
    "\n",
    "def matrix_of_quadrics(A, B, C):\n",
    "    row1 = [A, B/2]\n",
    "    row2 = [B/2, C]\n",
    "    matrix = sp.Matrix([row1, row2])\n",
    "    return matrix"
   ]
  },
  {
   "cell_type": "code",
   "execution_count": 62,
   "metadata": {},
   "outputs": [
    {
     "name": "stdout",
     "output_type": "stream",
     "text": [
      "Matica prechodu: \n"
     ]
    },
    {
     "data": {
      "text/latex": [
       "$\\displaystyle \\left[\\begin{matrix}- \\sin{\\left(t \\right)} & \\cos{\\left(t \\right)}\\\\- \\cos{\\left(t \\right)} & - \\sin{\\left(t \\right)}\\end{matrix}\\right]$"
      ],
      "text/plain": [
       "<IPython.core.display.Math object>"
      ]
     },
     "metadata": {},
     "output_type": "display_data"
    },
    {
     "name": "stdout",
     "output_type": "stream",
     "text": [
      "Po transformácii: \n"
     ]
    },
    {
     "data": {
      "text/latex": [
       "$\\displaystyle \\left[\\begin{matrix}- \\left(x - \\cos{\\left(t \\right)}\\right) \\sin{\\left(t \\right)} + \\left(y - \\sin{\\left(t \\right)}\\right) \\cos{\\left(t \\right)}\\\\- \\left(x - \\cos{\\left(t \\right)}\\right) \\cos{\\left(t \\right)} - \\left(y - \\sin{\\left(t \\right)}\\right) \\sin{\\left(t \\right)}\\end{matrix}\\right]$"
      ],
      "text/plain": [
       "<IPython.core.display.Math object>"
      ]
     },
     "metadata": {},
     "output_type": "display_data"
    }
   ],
   "source": [
    "# Výpočet vektorov\n",
    "T, N = local_coordinate_system(parametric_curve)\n",
    "# Zostavenie matice\n",
    "P = transition_matrix(T, N)\n",
    "print(\"Matica prechodu: \")\n",
    "display(Math(sp.latex(P)))\n",
    "# Maticou P vynásobíme vektor (X-parametric_curve) a tak zmeníme bázu elipsy\n",
    "vector = sp.Matrix([x - parametric_curve[0], y - parametric_curve[1]])\n",
    "result_vector = P * vector\n",
    "print(\"Po transformácii: \")\n",
    "display(Math(sp.latex(result_vector)))\n",
    "ellipse_in_new_basis = result_vector[0]**2/a**2 + result_vector[1]**2/b**2 - 1\n",
    "# Derivácia jednoparametrického systému elíps \n",
    "derivation = sp.diff(ellipse_in_new_basis, t)"
   ]
  },
  {
   "cell_type": "code",
   "execution_count": 63,
   "metadata": {},
   "outputs": [
    {
     "data": {
      "text/latex": [
       "$\\displaystyle \\left[\\begin{matrix}- \\frac{2 \\sin{\\left(t \\right)} \\cos{\\left(t \\right)}}{b^{2}} + \\frac{2 \\sin{\\left(t \\right)} \\cos{\\left(t \\right)}}{a^{2}} & - \\frac{\\sin^{2}{\\left(t \\right)}}{b^{2}} + \\frac{\\cos^{2}{\\left(t \\right)}}{b^{2}} + \\frac{\\sin^{2}{\\left(t \\right)}}{a^{2}} - \\frac{\\cos^{2}{\\left(t \\right)}}{a^{2}}\\\\- \\frac{\\sin^{2}{\\left(t \\right)}}{b^{2}} + \\frac{\\cos^{2}{\\left(t \\right)}}{b^{2}} + \\frac{\\sin^{2}{\\left(t \\right)}}{a^{2}} - \\frac{\\cos^{2}{\\left(t \\right)}}{a^{2}} & \\frac{2 \\sin{\\left(t \\right)} \\cos{\\left(t \\right)}}{b^{2}} - \\frac{2 \\sin{\\left(t \\right)} \\cos{\\left(t \\right)}}{a^{2}}\\end{matrix}\\right]$"
      ],
      "text/plain": [
       "<IPython.core.display.Math object>"
      ]
     },
     "metadata": {},
     "output_type": "display_data"
    },
    {
     "name": "stdout",
     "output_type": "stream",
     "text": [
      "Coefficient of x^2:\n"
     ]
    },
    {
     "data": {
      "text/latex": [
       "$\\displaystyle - \\frac{\\sin{\\left(2 t \\right)}}{b^{2}} + \\frac{\\sin{\\left(2 t \\right)}}{a^{2}}$"
      ],
      "text/plain": [
       "<IPython.core.display.Math object>"
      ]
     },
     "metadata": {},
     "output_type": "display_data"
    },
    {
     "name": "stdout",
     "output_type": "stream",
     "text": [
      "- \\frac{\\sin{\\left(2 t \\right)}}{b^{2}} + \\frac{\\sin{\\left(2 t \\right)}}{a^{2}}\n",
      "Coefficient of y^2:\n"
     ]
    },
    {
     "data": {
      "text/latex": [
       "$\\displaystyle \\frac{\\sin{\\left(2 t \\right)}}{b^{2}} - \\frac{\\sin{\\left(2 t \\right)}}{a^{2}}$"
      ],
      "text/plain": [
       "<IPython.core.display.Math object>"
      ]
     },
     "metadata": {},
     "output_type": "display_data"
    },
    {
     "name": "stdout",
     "output_type": "stream",
     "text": [
      "\\frac{\\sin{\\left(2 t \\right)}}{b^{2}} - \\frac{\\sin{\\left(2 t \\right)}}{a^{2}}\n",
      "Coefficient of xy:\n"
     ]
    },
    {
     "data": {
      "text/latex": [
       "$\\displaystyle \\frac{2 \\left(a^{2} - b^{2}\\right) \\cos{\\left(2 t \\right)}}{a^{2} b^{2}}$"
      ],
      "text/plain": [
       "<IPython.core.display.Math object>"
      ]
     },
     "metadata": {},
     "output_type": "display_data"
    },
    {
     "name": "stdout",
     "output_type": "stream",
     "text": [
      "\\frac{2 \\left(a^{2} - b^{2}\\right) \\cos{\\left(2 t \\right)}}{a^{2} b^{2}}\n",
      "Coefficient of x:\n"
     ]
    },
    {
     "data": {
      "text/latex": [
       "$\\displaystyle \\frac{2 \\sin{\\left(t \\right)}}{b^{2}}$"
      ],
      "text/plain": [
       "<IPython.core.display.Math object>"
      ]
     },
     "metadata": {},
     "output_type": "display_data"
    },
    {
     "name": "stdout",
     "output_type": "stream",
     "text": [
      "\\frac{2 \\sin{\\left(t \\right)}}{b^{2}}\n",
      "Coefficient of y:\n"
     ]
    },
    {
     "data": {
      "text/latex": [
       "$\\displaystyle - \\frac{2 \\cos{\\left(t \\right)}}{b^{2}}$"
      ],
      "text/plain": [
       "<IPython.core.display.Math object>"
      ]
     },
     "metadata": {},
     "output_type": "display_data"
    },
    {
     "name": "stdout",
     "output_type": "stream",
     "text": [
      "- \\frac{2 \\cos{\\left(t \\right)}}{b^{2}}\n",
      "Coefficient of constant term:\n"
     ]
    },
    {
     "data": {
      "text/latex": [
       "$\\displaystyle 0$"
      ],
      "text/plain": [
       "<IPython.core.display.Math object>"
      ]
     },
     "metadata": {},
     "output_type": "display_data"
    },
    {
     "name": "stdout",
     "output_type": "stream",
     "text": [
      "0\n"
     ]
    }
   ],
   "source": [
    "# Výpočet, o aký typ kužeľosečky ide\n",
    "# Najprv potrebujeme extrahovať koeficienty z derivácie\n",
    "expanded_expression = sp.expand(derivation)\n",
    "A = expanded_expression.coeff(x**2)\n",
    "B = expanded_expression.coeff(x*y)\n",
    "C = expanded_expression.coeff(y**2)\n",
    "\n",
    "# Tu bolo potrebné odstrániť všetky koeficienty pri členoch x*y, x*z,..\n",
    "coef_x = expanded_expression.coeff(x)\n",
    "terms_x = sp.Add(*coef_x.args) if isinstance(coef_x, sp.Add) else coef_x\n",
    "terms_x_filtered = [term for term in sp.Add.make_args(terms_x) if not term.has(y)]\n",
    "D = sp.Add(*terms_x_filtered)\n",
    "\n",
    "coef_y = expanded_expression.coeff(y)\n",
    "terms_y = sp.Add(*coef_y.args) if isinstance(coef_y, sp.Add) else coef_y\n",
    "terms_y_filtered = [term for term in sp.Add.make_args(terms_y) if not term.has(x)]\n",
    "E = sp.Add(*terms_y_filtered)\n",
    "\n",
    "# Tu bolo potrebné odstrániť všetky koeficienty pri členoch x, y, z\n",
    "terms = sp.Add(*expanded_expression.args) if isinstance(expanded_expression, sp.Add) else expanded_expression\n",
    "terms_filtered = [term for term in sp.Add.make_args(terms) if not term.has(x) and not term.has(y)]\n",
    "F = sp.Add(*terms_filtered)\n",
    "\n",
    "matrix_of_derivation = matrix_of_quadrics_homogenization(A, B, C, D, E, F)\n",
    "M1 = matrix_of_quadrics(A, B, C)\n",
    "display(Math(sp.latex(M1)))\n",
    "\n",
    "# Print koeficientov\n",
    "print(\"Coefficient of x^2:\")\n",
    "display(Math(sp.latex(sp.simplify(A))))\n",
    "print(sp.latex(sp.simplify(A)))\n",
    "print(\"Coefficient of y^2:\")\n",
    "display(Math(sp.latex(sp.simplify(C))))\n",
    "print(sp.latex(sp.simplify(C)))\n",
    "print(\"Coefficient of xy:\") \n",
    "display(Math(sp.latex(sp.simplify(B))))\n",
    "print(sp.latex(sp.simplify(B)))\n",
    "print(\"Coefficient of x:\")\n",
    "display(Math(sp.latex(sp.simplify(D))))\n",
    "print(sp.latex(sp.simplify(D)))\n",
    "print(\"Coefficient of y:\")\n",
    "display(Math(sp.latex(sp.simplify(E))))\n",
    "print(sp.latex(sp.simplify(E)))\n",
    "print(\"Coefficient of constant term:\")\n",
    "display(Math(sp.latex(sp.simplify(F))))\n",
    "print(sp.latex(sp.simplify(F)))"
   ]
  },
  {
   "cell_type": "code",
   "execution_count": 64,
   "metadata": {},
   "outputs": [],
   "source": [
    "# Typ kužeľosečky\n",
    "determinant = sp.det(matrix_of_derivation)\n",
    "subdeterminant = A*C-B**2/4"
   ]
  },
  {
   "cell_type": "code",
   "execution_count": 65,
   "metadata": {},
   "outputs": [
    {
     "name": "stdout",
     "output_type": "stream",
     "text": [
      "Determinant matice kvadratickej formy: \n"
     ]
    },
    {
     "data": {
      "text/latex": [
       "$\\displaystyle - \\frac{1}{b^{4}} + \\frac{2}{a^{2} b^{2}} - \\frac{1}{a^{4}}$"
      ],
      "text/plain": [
       "<IPython.core.display.Math object>"
      ]
     },
     "metadata": {},
     "output_type": "display_data"
    },
    {
     "name": "stdout",
     "output_type": "stream",
     "text": [
      "Diagonálna matica: \n"
     ]
    },
    {
     "data": {
      "text/latex": [
       "$\\displaystyle \\left[\\begin{matrix}- \\frac{1}{b^{2}} + \\frac{1}{a^{2}} & 0\\\\0 & \\frac{1}{b^{2}} - \\frac{1}{a^{2}}\\end{matrix}\\right]$"
      ],
      "text/plain": [
       "<IPython.core.display.Math object>"
      ]
     },
     "metadata": {},
     "output_type": "display_data"
    },
    {
     "name": "stdout",
     "output_type": "stream",
     "text": [
      "Vlastné hodnoty: \n",
      "- \\frac{1}{b^{2}} + \\frac{1}{a^{2}}\n",
      "\\frac{1}{b^{2}} - \\frac{1}{a^{2}}\n",
      "Matica vlastných vektorov: \n"
     ]
    },
    {
     "data": {
      "text/latex": [
       "$\\displaystyle \\left[\\begin{matrix}\\frac{\\cos{\\left(2 t \\right)}}{\\sin{\\left(2 t \\right)} - 1} & \\frac{\\cos{\\left(2 t \\right)}}{\\sin{\\left(2 t \\right)} + 1}\\\\1 & 1\\end{matrix}\\right]$"
      ],
      "text/plain": [
       "<IPython.core.display.Math object>"
      ]
     },
     "metadata": {},
     "output_type": "display_data"
    }
   ],
   "source": [
    "# Diagonalize the matrix\n",
    "P1, D1 = M1.diagonalize()\n",
    "\n",
    "subdet = D1.det()\n",
    "print(\"Determinant matice kvadratickej formy: \")\n",
    "display(Math(sp.latex(sp.simplify(subdet))))\n",
    "\n",
    "print(\"Diagonálna matica: \")\n",
    "display(Math(sp.latex(sp.simplify(D1))))\n",
    "\n",
    "print(\"Vlastné hodnoty: \")\n",
    "print(sp.latex(sp.simplify(D1[0,0])))\n",
    "print(sp.latex(sp.simplify(D1[1,1])))\n",
    "\n",
    "print(\"Matica vlastných vektorov: \")\n",
    "display(Math(sp.latex(P1)))"
   ]
  },
  {
   "cell_type": "code",
   "execution_count": 69,
   "metadata": {},
   "outputs": [
    {
     "data": {
      "text/latex": [
       "$\\displaystyle 0.5 \\operatorname{atan}{\\left(\\frac{1}{\\tan{\\left(2 t \\right)}} \\right)}$"
      ],
      "text/plain": [
       "<IPython.core.display.Math object>"
      ]
     },
     "metadata": {},
     "output_type": "display_data"
    },
    {
     "data": {
      "text/latex": [
       "$\\displaystyle x \\cos{\\left(0.5 \\operatorname{atan}{\\left(\\frac{1}{\\tan{\\left(2 t \\right)}} \\right)} \\right)} - y \\sin{\\left(0.5 \\operatorname{atan}{\\left(\\frac{1}{\\tan{\\left(2 t \\right)}} \\right)} \\right)}$"
      ],
      "text/plain": [
       "<IPython.core.display.Math object>"
      ]
     },
     "metadata": {},
     "output_type": "display_data"
    },
    {
     "data": {
      "text/latex": [
       "$\\displaystyle x \\sin{\\left(0.5 \\operatorname{atan}{\\left(\\frac{1}{\\tan{\\left(2 t \\right)}} \\right)} \\right)} + y \\cos{\\left(0.5 \\operatorname{atan}{\\left(\\frac{1}{\\tan{\\left(2 t \\right)}} \\right)} \\right)}$"
      ],
      "text/plain": [
       "<IPython.core.display.Math object>"
      ]
     },
     "metadata": {},
     "output_type": "display_data"
    },
    {
     "data": {
      "text/latex": [
       "$\\displaystyle \\frac{2 a^{2} \\sin{\\left(t + 0.5 \\operatorname{atan}{\\left(\\frac{1}{\\tan{\\left(2 t \\right)}} \\right)} \\right)} + \\left(a - b\\right) \\left(a + b\\right) \\left(x \\cos{\\left(0.5 \\operatorname{atan}{\\left(\\frac{1}{\\tan{\\left(2 t \\right)}} \\right)} \\right)} - y \\sin{\\left(0.5 \\operatorname{atan}{\\left(\\frac{1}{\\tan{\\left(2 t \\right)}} \\right)} \\right)}\\right)}{\\left(a - b\\right) \\left(a + b\\right)}$"
      ],
      "text/plain": [
       "<IPython.core.display.Math object>"
      ]
     },
     "metadata": {},
     "output_type": "display_data"
    },
    {
     "data": {
      "text/latex": [
       "$\\displaystyle \\frac{2 a^{2} \\cos{\\left(t + 0.5 \\operatorname{atan}{\\left(\\frac{1}{\\tan{\\left(2 t \\right)}} \\right)} \\right)} + \\left(a - b\\right) \\left(a + b\\right) \\left(x \\sin{\\left(0.5 \\operatorname{atan}{\\left(\\frac{1}{\\tan{\\left(2 t \\right)}} \\right)} \\right)} + y \\cos{\\left(0.5 \\operatorname{atan}{\\left(\\frac{1}{\\tan{\\left(2 t \\right)}} \\right)} \\right)}\\right)}{\\left(a - b\\right) \\left(a + b\\right)}$"
      ],
      "text/plain": [
       "<IPython.core.display.Math object>"
      ]
     },
     "metadata": {},
     "output_type": "display_data"
    },
    {
     "data": {
      "text/latex": [
       "$\\displaystyle \\frac{\\left(2 a^{2} \\sin{\\left(t + 0.5 \\operatorname{atan}{\\left(\\frac{1}{\\tan{\\left(2 t \\right)}} \\right)} \\right)} + \\left(a - b\\right) \\left(a + b\\right) \\left(x \\cos{\\left(0.5 \\operatorname{atan}{\\left(\\frac{1}{\\tan{\\left(2 t \\right)}} \\right)} \\right)} - y \\sin{\\left(0.5 \\operatorname{atan}{\\left(\\frac{1}{\\tan{\\left(2 t \\right)}} \\right)} \\right)}\\right)\\right)^{2} - \\left(2 a^{2} \\cos{\\left(t + 0.5 \\operatorname{atan}{\\left(\\frac{1}{\\tan{\\left(2 t \\right)}} \\right)} \\right)} + \\left(a - b\\right) \\left(a + b\\right) \\left(x \\sin{\\left(0.5 \\operatorname{atan}{\\left(\\frac{1}{\\tan{\\left(2 t \\right)}} \\right)} \\right)} + y \\cos{\\left(0.5 \\operatorname{atan}{\\left(\\frac{1}{\\tan{\\left(2 t \\right)}} \\right)} \\right)}\\right)\\right)^{2}}{a^{2} b^{2} \\left(a - b\\right) \\left(a + b\\right)}$"
      ],
      "text/plain": [
       "<IPython.core.display.Math object>"
      ]
     },
     "metadata": {},
     "output_type": "display_data"
    },
    {
     "name": "stdout",
     "output_type": "stream",
     "text": [
      "\\frac{\\left(2 a^{2} \\sin{\\left(t + 0.5 \\operatorname{atan}{\\left(\\frac{1}{\\tan{\\left(2 t \\right)}} \\right)} \\right)} + \\left(a - b\\right) \\left(a + b\\right) \\left(x \\cos{\\left(0.5 \\operatorname{atan}{\\left(\\frac{1}{\\tan{\\left(2 t \\right)}} \\right)} \\right)} - y \\sin{\\left(0.5 \\operatorname{atan}{\\left(\\frac{1}{\\tan{\\left(2 t \\right)}} \\right)} \\right)}\\right)\\right)^{2} - \\left(2 a^{2} \\cos{\\left(t + 0.5 \\operatorname{atan}{\\left(\\frac{1}{\\tan{\\left(2 t \\right)}} \\right)} \\right)} + \\left(a - b\\right) \\left(a + b\\right) \\left(x \\sin{\\left(0.5 \\operatorname{atan}{\\left(\\frac{1}{\\tan{\\left(2 t \\right)}} \\right)} \\right)} + y \\cos{\\left(0.5 \\operatorname{atan}{\\left(\\frac{1}{\\tan{\\left(2 t \\right)}} \\right)} \\right)}\\right)\\right)^{2}}{a^{2} b^{2} \\left(a - b\\right) \\left(a + b\\right)}\n"
     ]
    }
   ],
   "source": [
    "# kvadratická forma tvaru Ax^2+Bxy + Cy^2 + Dx + Ey + F = 0\n",
    "phi = 1/2 * sp.atan(B/(C-A))\n",
    "display(Math(sp.latex(sp.simplify(phi))))\n",
    "x_1 = sp.cos(phi)*x - sp.sin(phi)*y\n",
    "y_1 = sp.sin(phi)*x + sp.cos(phi)*y\n",
    "display(Math(sp.latex(sp.simplify(x_1))))\n",
    "display(Math(sp.latex(sp.simplify(y_1))))\n",
    "x_11 = x_1 + (D*sp.cos(phi) - E*sp.sin(phi))/D1[1,1]\n",
    "y_11 = y_1 + (D*sp.sin(phi) + E*sp.cos(phi))/D1[0,0]\n",
    "display(Math(sp.latex(sp.simplify(x_11))))\n",
    "display(Math(sp.latex(sp.simplify(y_11))))\n",
    "eq = D1[1,1]*x_11**2 + D1[0,0]*y_11**2\n",
    "eq_simp = sp.latex(sp.simplify(eq))\n",
    "display(Math(eq_simp))\n",
    "print(eq_simp)\n"
   ]
  },
  {
   "cell_type": "code",
   "execution_count": 67,
   "metadata": {},
   "outputs": [
    {
     "ename": "TypeError",
     "evalue": "'Add' object is not subscriptable",
     "output_type": "error",
     "traceback": [
      "\u001b[1;31m---------------------------------------------------------------------------\u001b[0m",
      "\u001b[1;31mTypeError\u001b[0m                                 Traceback (most recent call last)",
      "\u001b[1;32mc:\\Users\\tutko\\Desktop\\Masters-Thesis\\examples\\2D_workflow copy.ipynb Cell 10\u001b[0m line \u001b[0;36m3\n\u001b[0;32m      <a href='vscode-notebook-cell:/c%3A/Users/tutko/Desktop/Masters-Thesis/examples/2D_workflow%20copy.ipynb#X11sZmlsZQ%3D%3D?line=0'>1</a>\u001b[0m \u001b[39m# smerové vektory hlavných osí\u001b[39;00m\n\u001b[0;32m      <a href='vscode-notebook-cell:/c%3A/Users/tutko/Desktop/Masters-Thesis/examples/2D_workflow%20copy.ipynb#X11sZmlsZQ%3D%3D?line=1'>2</a>\u001b[0m \u001b[39m# Define eigenvectors (replace with your expressions)\u001b[39;00m\n\u001b[1;32m----> <a href='vscode-notebook-cell:/c%3A/Users/tutko/Desktop/Masters-Thesis/examples/2D_workflow%20copy.ipynb#X11sZmlsZQ%3D%3D?line=2'>3</a>\u001b[0m eigen_vector0 \u001b[39m=\u001b[39m sp\u001b[39m.\u001b[39msqrt(sp\u001b[39m.\u001b[39mAbs(D[\u001b[39m0\u001b[39;49m, \u001b[39m0\u001b[39;49m])) \u001b[39m*\u001b[39m P[:, \u001b[39m0\u001b[39m]\n\u001b[0;32m      <a href='vscode-notebook-cell:/c%3A/Users/tutko/Desktop/Masters-Thesis/examples/2D_workflow%20copy.ipynb#X11sZmlsZQ%3D%3D?line=3'>4</a>\u001b[0m eigen_vector1 \u001b[39m=\u001b[39m sp\u001b[39m.\u001b[39msqrt(sp\u001b[39m.\u001b[39mAbs(D[\u001b[39m1\u001b[39m, \u001b[39m1\u001b[39m])) \u001b[39m*\u001b[39m P[:, \u001b[39m1\u001b[39m]\n\u001b[0;32m      <a href='vscode-notebook-cell:/c%3A/Users/tutko/Desktop/Masters-Thesis/examples/2D_workflow%20copy.ipynb#X11sZmlsZQ%3D%3D?line=4'>5</a>\u001b[0m eigen_vector2 \u001b[39m=\u001b[39m sp\u001b[39m.\u001b[39msqrt(sp\u001b[39m.\u001b[39mAbs(D[\u001b[39m2\u001b[39m, \u001b[39m2\u001b[39m])) \u001b[39m*\u001b[39m P[:, \u001b[39m2\u001b[39m]\n",
      "\u001b[1;31mTypeError\u001b[0m: 'Add' object is not subscriptable"
     ]
    }
   ],
   "source": [
    "# smerové vektory hlavných osí\n",
    "# Define eigenvectors (replace with your expressions)\n",
    "eigen_vector0 = sp.sqrt(sp.Abs(D[0, 0])) * P[:, 0]\n",
    "eigen_vector1 = sp.sqrt(sp.Abs(D[1, 1])) * P[:, 1]\n",
    "eigen_vector2 = sp.sqrt(sp.Abs(D[2, 2])) * P[:, 2]\n",
    "#display(Math(sp.latex(eigen_vector1)))\n",
    "#display(Math(sp.latex(eigen_vector2)))\n",
    "\n",
    "# Define a tolerance value for considering a number as zero\n",
    "tolerance = 1e-15  # You can adjust this tolerance as needed\n",
    "\n",
    "# Check if each eigenvector is effectively zero\n",
    "is_nonzero0 = abs(D[0,0]) >= tolerance \n",
    "is_nonzero1 = abs(D[1,1]) >= tolerance \n",
    "is_nonzero2 = abs(D[2,2]) >= tolerance\n",
    "\n",
    "# Determine which eigenvectors are nonzero\n",
    "nonzero_eigenvalues = []\n",
    "nonzero_eigenvectors = []\n",
    "if is_nonzero0:\n",
    "    nonzero_eigenvalues.append(D[0,0])\n",
    "    #nonzero_eigenvectors.append(eigen_vector0/sp.sqrt(eigen_vector0[0]**2 + eigen_vector0[1]**2 + eigen_vector0[2]**2))\n",
    "    nonzero_eigenvectors.append(eigen_vector0)\n",
    "if is_nonzero1:\n",
    "    nonzero_eigenvalues.append(D[1,1])\n",
    "    nonzero_eigenvectors.append(eigen_vector1)\n",
    "    #nonzero_eigenvectors.append(eigen_vector1/sp.sqrt(eigen_vector1[0]**2 + eigen_vector1[1]**2 + eigen_vector1[2]**2))\n",
    "if is_nonzero2:\n",
    "    nonzero_eigenvalues.append(D[2,2])\n",
    "    nonzero_eigenvectors.append(eigen_vector2)\n",
    "    #nonzero_eigenvectors.append(eigen_vector2/sp.sqrt(eigen_vector2[0]**2 + eigen_vector2[1]**2 + eigen_vector2[2]**2))\n",
    "\n",
    "#print(len(nonzero_eigenvectors))\n",
    "\n",
    "# po sčítaní osí dostávam žiadaný smer\n",
    "Q1 = (nonzero_eigenvectors[0] + nonzero_eigenvectors[1])\n",
    "if (nonzero_eigenvalues[1] >= nonzero_eigenvalues[0]):\n",
    "    Q2 =(nonzero_eigenvectors[1] - nonzero_eigenvectors[0])\n",
    "else:\n",
    "    Q2 = (nonzero_eigenvectors[0] - nonzero_eigenvectors[1])\n",
    "\n",
    "g = Q1[0]*x+Q1[1]*y+Q1[2]\n",
    "h = Q2[0]*x+Q2[1]*y+Q2[2]\n",
    "print(sp.latex(g) + ' = 0')\n",
    "print(sp.latex(h) + ' = 0')\n",
    "\n",
    "theta1 = m.atan2(Q1[1],Q1[0])\n",
    "d1 = Q1[2]/ m.sqrt(Q1[0]**2+Q1[1]**2)\n",
    "theta2 = m.atan2(Q2[1],Q2[0])\n",
    "d2 = Q2[2]/ m.sqrt(Q2[0]**2+Q2[1]**2)\n",
    "\n",
    "lineg = sp.cos(theta1)*x + sp.sin(theta1)*y + d1\n",
    "lineh = sp.cos(theta2)*x + sp.sin(theta2)*y + d2\n",
    "\n",
    "print(sp.latex(lineg))\n",
    "print(sp.latex(lineh))"
   ]
  },
  {
   "cell_type": "code",
   "execution_count": null,
   "metadata": {},
   "outputs": [],
   "source": [
    "# Ukončenie merania času\n",
    "end_time = time.time()\n",
    "elapsed_time = end_time - start_time"
   ]
  },
  {
   "cell_type": "code",
   "execution_count": null,
   "metadata": {},
   "outputs": [
    {
     "name": "stdout",
     "output_type": "stream",
     "text": [
      "Výraz je pre zadané hodnoty záporný. \n"
     ]
    }
   ],
   "source": [
    "# Typ kuželosečky vieme jasne dourčiť pre špecifikáciu parametrov\n",
    "t_values = range(t_min, t_max)\n",
    "is_negative = True\n",
    "\n",
    "for t_val in t_values:\n",
    "    if subdeterminant.subs({t: t_val, a: a_0, b: b_0, c: c_0, d: d_0}) >= 0:\n",
    "        is_negative = False\n",
    "        break\n",
    "\n",
    "if is_negative:\n",
    "    print(\"Výraz je pre zadané hodnoty záporný. \")\n",
    "else:\n",
    "    print(\"Výraz nie je pre zadané hodnoty záporný. \")"
   ]
  },
  {
   "cell_type": "code",
   "execution_count": null,
   "metadata": {},
   "outputs": [
    {
     "name": "stdout",
     "output_type": "stream",
     "text": [
      "Matrix([[t], [t**2]])\n",
      "Systém: \n"
     ]
    },
    {
     "data": {
      "text/latex": [
       "$\\displaystyle \\frac{- a^{2} b^{2} \\cdot \\left(4 t^{2} + 1\\right) + a^{2} \\left(- t^{2} + 2 t \\left(t - x\\right) + y\\right)^{2} + b^{2} \\left(2 t \\left(t^{2} - y\\right) + t - x\\right)^{2}}{a^{2} b^{2} \\cdot \\left(4 t^{2} + 1\\right)}$"
      ],
      "text/plain": [
       "<IPython.core.display.Math object>"
      ]
     },
     "metadata": {},
     "output_type": "display_data"
    },
    {
     "name": "stdout",
     "output_type": "stream",
     "text": [
      "Derivácia sytému: \n"
     ]
    },
    {
     "data": {
      "text/latex": [
       "$\\displaystyle \\frac{2 \\cdot \\left(2 a^{2} \\cdot \\left(2 t \\left(t^{2} + 2 t \\left(- t + x\\right) - y\\right) + \\left(t - x\\right) \\left(4 t^{2} + 1\\right)\\right) \\left(- t^{2} + 2 t \\left(t - x\\right) + y\\right) + b^{2} \\cdot \\left(4 t \\left(2 t \\left(- t^{2} + y\\right) - t + x\\right) + \\left(4 t^{2} + 1\\right) \\left(6 t^{2} - 2 y + 1\\right)\\right) \\left(2 t \\left(t^{2} - y\\right) + t - x\\right)\\right)}{a^{2} b^{2} \\left(4 t^{2} + 1\\right)^{2}}$"
      ],
      "text/plain": [
       "<IPython.core.display.Math object>"
      ]
     },
     "metadata": {},
     "output_type": "display_data"
    },
    {
     "name": "stdout",
     "output_type": "stream",
     "text": [
      "Determinant derivácie: \n"
     ]
    },
    {
     "data": {
      "text/latex": [
       "$\\displaystyle 0$"
      ],
      "text/plain": [
       "<IPython.core.display.Math object>"
      ]
     },
     "metadata": {},
     "output_type": "display_data"
    },
    {
     "name": "stdout",
     "output_type": "stream",
     "text": [
      "Čas: \n",
      "2.349496364593506 seconds\n"
     ]
    },
    {
     "data": {
      "text/latex": [
       "$\\displaystyle \\frac{4 \\left(- a^{4} + 2 a^{2} b^{2} - b^{4}\\right)}{a^{4} b^{4} \\cdot \\left(16 t^{4} + 8 t^{2} + 1\\right)}$"
      ],
      "text/plain": [
       "<IPython.core.display.Math object>"
      ]
     },
     "metadata": {},
     "output_type": "display_data"
    },
    {
     "name": "stdout",
     "output_type": "stream",
     "text": [
      "Výraz je pre zadané hodnoty záporný. \n"
     ]
    }
   ],
   "source": [
    "print(parametric_curve)\n",
    "print(\"Systém: \")\n",
    "system = sp.latex(sp.simplify(ellipse_in_new_basis))\n",
    "display(Math(system))\n",
    "#print(system + '=0')\n",
    "\n",
    "print(\"Derivácia sytému: \")\n",
    "der = sp.latex(sp.simplify(derivation))\n",
    "display(Math(der))\n",
    "#print(der + '=0')\n",
    "\n",
    "print(\"Determinant derivácie: \")\n",
    "display(Math(sp.latex(sp.simplify(determinant))))\n",
    "\n",
    "print(\"Čas: \")\n",
    "print(elapsed_time, \"seconds\")\n",
    "\n",
    "expression = sp.latex(sp.simplify(subdeterminant))\n",
    "display(Math(expression))\n",
    "if is_negative:\n",
    "    print(\"Výraz je pre zadané hodnoty záporný. \")\n",
    "else:\n",
    "    print(\"Výraz nie je pre zadané hodnoty záporný. \")"
   ]
  }
 ],
 "metadata": {
  "kernelspec": {
   "display_name": "Python 3",
   "language": "python",
   "name": "python3"
  },
  "language_info": {
   "codemirror_mode": {
    "name": "ipython",
    "version": 3
   },
   "file_extension": ".py",
   "mimetype": "text/x-python",
   "name": "python",
   "nbconvert_exporter": "python",
   "pygments_lexer": "ipython3",
   "version": "3.11.5"
  },
  "orig_nbformat": 4
 },
 "nbformat": 4,
 "nbformat_minor": 2
}
