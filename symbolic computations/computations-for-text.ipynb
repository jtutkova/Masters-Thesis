{
 "cells": [
  {
   "cell_type": "code",
   "execution_count": 46,
   "metadata": {},
   "outputs": [],
   "source": [
    "import sympy as sp\n",
    "from IPython.display import display, Math"
   ]
  },
  {
   "cell_type": "code",
   "execution_count": 47,
   "metadata": {},
   "outputs": [
    {
     "name": "stdout",
     "output_type": "stream",
     "text": [
      "-1 + \\frac{\\left(- \\frac{1}{b^{2}} + \\frac{1}{a^{2}}\\right) \\left(2 x - 2 m_{1}{\\left(t \\right)}\\right) \\left(y - m_{2}{\\left(t \\right)}\\right) \\frac{d}{d t} m_{1}{\\left(t \\right)} \\frac{d}{d t} m_{2}{\\left(t \\right)} + \\left(x - m_{1}{\\left(t \\right)}\\right)^{2} \\left(\\frac{\\left(\\frac{d}{d t} m_{2}{\\left(t \\right)}\\right)^{2}}{b^{2}} + \\frac{\\left(\\frac{d}{d t} m_{1}{\\left(t \\right)}\\right)^{2}}{a^{2}}\\right) + \\left(y - m_{2}{\\left(t \\right)}\\right)^{2} \\left(\\frac{\\left(\\frac{d}{d t} m_{1}{\\left(t \\right)}\\right)^{2}}{b^{2}} + \\frac{\\left(\\frac{d}{d t} m_{2}{\\left(t \\right)}\\right)^{2}}{a^{2}}\\right)}{\\left(\\frac{d}{d t} m_{1}{\\left(t \\right)}\\right)^{2} + \\left(\\frac{d}{d t} m_{2}{\\left(t \\right)}\\right)^{2}}\n"
     ]
    }
   ],
   "source": [
    "# Define symbols\n",
    "t, x, y = sp.symbols('t x y')\n",
    "m_1 = sp.Function('m_1')(t)\n",
    "m_2 = sp.Function('m_2')(t)\n",
    "a, b = sp.symbols('a b')\n",
    "\n",
    "# Define the ellipse expression\n",
    "ellipse = (1 / (sp.diff(m_1, t)**2 + sp.diff(m_2, t)**2)) * (((x - m_1)**2 * ((sp.diff(m_1, t))**2 / a**2 + (sp.diff(m_2, t))**2 / b**2))\n",
    "           + (2 * (x - m_1) * (y - m_2) * sp.diff(m_1, t) * sp.diff(m_2, t) * (1 / a**2 - 1 / b**2))\n",
    "           + ((y - m_2)**2 * ((sp.diff(m_2, t))**2 / a**2 + (sp.diff(m_1, t))**2 / b**2))) - 1\n",
    "\n",
    "print(sp.latex(ellipse))"
   ]
  },
  {
   "cell_type": "code",
   "execution_count": 48,
   "metadata": {},
   "outputs": [
    {
     "name": "stdout",
     "output_type": "stream",
     "text": [
      "Coefficient of x^2:\n"
     ]
    },
    {
     "data": {
      "text/latex": [
       "$\\displaystyle \\frac{a^{2} \\left(\\frac{d}{d t} m_{2}{\\left(t \\right)}\\right)^{2} + b^{2} \\left(\\frac{d}{d t} m_{1}{\\left(t \\right)}\\right)^{2}}{a^{2} b^{2} \\left(\\left(\\frac{d}{d t} m_{1}{\\left(t \\right)}\\right)^{2} + \\left(\\frac{d}{d t} m_{2}{\\left(t \\right)}\\right)^{2}\\right)}$"
      ],
      "text/plain": [
       "<IPython.core.display.Math object>"
      ]
     },
     "metadata": {},
     "output_type": "display_data"
    },
    {
     "name": "stdout",
     "output_type": "stream",
     "text": [
      "\\frac{a^{2} \\left(\\frac{d}{d t} m_{2}{\\left(t \\right)}\\right)^{2} + b^{2} \\left(\\frac{d}{d t} m_{1}{\\left(t \\right)}\\right)^{2}}{a^{2} b^{2} \\left(\\left(\\frac{d}{d t} m_{1}{\\left(t \\right)}\\right)^{2} + \\left(\\frac{d}{d t} m_{2}{\\left(t \\right)}\\right)^{2}\\right)}\n",
      "Coefficient of y^2:\n"
     ]
    },
    {
     "data": {
      "text/latex": [
       "$\\displaystyle \\frac{a^{2} \\left(\\frac{d}{d t} m_{1}{\\left(t \\right)}\\right)^{2} + b^{2} \\left(\\frac{d}{d t} m_{2}{\\left(t \\right)}\\right)^{2}}{a^{2} b^{2} \\left(\\left(\\frac{d}{d t} m_{1}{\\left(t \\right)}\\right)^{2} + \\left(\\frac{d}{d t} m_{2}{\\left(t \\right)}\\right)^{2}\\right)}$"
      ],
      "text/plain": [
       "<IPython.core.display.Math object>"
      ]
     },
     "metadata": {},
     "output_type": "display_data"
    },
    {
     "name": "stdout",
     "output_type": "stream",
     "text": [
      "\\frac{a^{2} \\left(\\frac{d}{d t} m_{1}{\\left(t \\right)}\\right)^{2} + b^{2} \\left(\\frac{d}{d t} m_{2}{\\left(t \\right)}\\right)^{2}}{a^{2} b^{2} \\left(\\left(\\frac{d}{d t} m_{1}{\\left(t \\right)}\\right)^{2} + \\left(\\frac{d}{d t} m_{2}{\\left(t \\right)}\\right)^{2}\\right)}\n",
      "Coefficient of xy:\n"
     ]
    },
    {
     "data": {
      "text/latex": [
       "$\\displaystyle \\frac{2 \\left(- a^{2} + b^{2}\\right) \\frac{d}{d t} m_{1}{\\left(t \\right)} \\frac{d}{d t} m_{2}{\\left(t \\right)}}{a^{2} b^{2} \\left(\\left(\\frac{d}{d t} m_{1}{\\left(t \\right)}\\right)^{2} + \\left(\\frac{d}{d t} m_{2}{\\left(t \\right)}\\right)^{2}\\right)}$"
      ],
      "text/plain": [
       "<IPython.core.display.Math object>"
      ]
     },
     "metadata": {},
     "output_type": "display_data"
    },
    {
     "name": "stdout",
     "output_type": "stream",
     "text": [
      "\\frac{2 \\left(- a^{2} + b^{2}\\right) \\frac{d}{d t} m_{1}{\\left(t \\right)} \\frac{d}{d t} m_{2}{\\left(t \\right)}}{a^{2} b^{2} \\left(\\left(\\frac{d}{d t} m_{1}{\\left(t \\right)}\\right)^{2} + \\left(\\frac{d}{d t} m_{2}{\\left(t \\right)}\\right)^{2}\\right)}\n",
      "Coefficient of x:\n"
     ]
    },
    {
     "data": {
      "text/latex": [
       "$\\displaystyle \\frac{2 \\left(a^{2} \\left(- m_{1}{\\left(t \\right)} \\frac{d}{d t} m_{2}{\\left(t \\right)} + m_{2}{\\left(t \\right)} \\frac{d}{d t} m_{1}{\\left(t \\right)}\\right) \\frac{d}{d t} m_{2}{\\left(t \\right)} - b^{2} \\left(m_{1}{\\left(t \\right)} \\frac{d}{d t} m_{1}{\\left(t \\right)} + m_{2}{\\left(t \\right)} \\frac{d}{d t} m_{2}{\\left(t \\right)}\\right) \\frac{d}{d t} m_{1}{\\left(t \\right)}\\right)}{a^{2} b^{2} \\left(\\left(\\frac{d}{d t} m_{1}{\\left(t \\right)}\\right)^{2} + \\left(\\frac{d}{d t} m_{2}{\\left(t \\right)}\\right)^{2}\\right)}$"
      ],
      "text/plain": [
       "<IPython.core.display.Math object>"
      ]
     },
     "metadata": {},
     "output_type": "display_data"
    },
    {
     "name": "stdout",
     "output_type": "stream",
     "text": [
      "\\frac{2 \\left(a^{2} \\left(- m_{1}{\\left(t \\right)} \\frac{d}{d t} m_{2}{\\left(t \\right)} + m_{2}{\\left(t \\right)} \\frac{d}{d t} m_{1}{\\left(t \\right)}\\right) \\frac{d}{d t} m_{2}{\\left(t \\right)} - b^{2} \\left(m_{1}{\\left(t \\right)} \\frac{d}{d t} m_{1}{\\left(t \\right)} + m_{2}{\\left(t \\right)} \\frac{d}{d t} m_{2}{\\left(t \\right)}\\right) \\frac{d}{d t} m_{1}{\\left(t \\right)}\\right)}{a^{2} b^{2} \\left(\\left(\\frac{d}{d t} m_{1}{\\left(t \\right)}\\right)^{2} + \\left(\\frac{d}{d t} m_{2}{\\left(t \\right)}\\right)^{2}\\right)}\n",
      "Coefficient of y:\n"
     ]
    },
    {
     "data": {
      "text/latex": [
       "$\\displaystyle \\frac{2 \\left(a^{2} \\left(m_{1}{\\left(t \\right)} \\frac{d}{d t} m_{2}{\\left(t \\right)} - m_{2}{\\left(t \\right)} \\frac{d}{d t} m_{1}{\\left(t \\right)}\\right) \\frac{d}{d t} m_{1}{\\left(t \\right)} - b^{2} \\left(m_{1}{\\left(t \\right)} \\frac{d}{d t} m_{1}{\\left(t \\right)} + m_{2}{\\left(t \\right)} \\frac{d}{d t} m_{2}{\\left(t \\right)}\\right) \\frac{d}{d t} m_{2}{\\left(t \\right)}\\right)}{a^{2} b^{2} \\left(\\left(\\frac{d}{d t} m_{1}{\\left(t \\right)}\\right)^{2} + \\left(\\frac{d}{d t} m_{2}{\\left(t \\right)}\\right)^{2}\\right)}$"
      ],
      "text/plain": [
       "<IPython.core.display.Math object>"
      ]
     },
     "metadata": {},
     "output_type": "display_data"
    },
    {
     "name": "stdout",
     "output_type": "stream",
     "text": [
      "\\frac{2 \\left(a^{2} \\left(m_{1}{\\left(t \\right)} \\frac{d}{d t} m_{2}{\\left(t \\right)} - m_{2}{\\left(t \\right)} \\frac{d}{d t} m_{1}{\\left(t \\right)}\\right) \\frac{d}{d t} m_{1}{\\left(t \\right)} - b^{2} \\left(m_{1}{\\left(t \\right)} \\frac{d}{d t} m_{1}{\\left(t \\right)} + m_{2}{\\left(t \\right)} \\frac{d}{d t} m_{2}{\\left(t \\right)}\\right) \\frac{d}{d t} m_{2}{\\left(t \\right)}\\right)}{a^{2} b^{2} \\left(\\left(\\frac{d}{d t} m_{1}{\\left(t \\right)}\\right)^{2} + \\left(\\frac{d}{d t} m_{2}{\\left(t \\right)}\\right)^{2}\\right)}\n",
      "Coefficient of constant term:\n"
     ]
    },
    {
     "data": {
      "text/latex": [
       "$\\displaystyle \\frac{- a^{2} b^{2} \\left(\\left(\\frac{d}{d t} m_{1}{\\left(t \\right)}\\right)^{2} + \\left(\\frac{d}{d t} m_{2}{\\left(t \\right)}\\right)^{2}\\right) + a^{2} \\left(m_{1}^{2}{\\left(t \\right)} \\left(\\frac{d}{d t} m_{2}{\\left(t \\right)}\\right)^{2} - 2 m_{1}{\\left(t \\right)} m_{2}{\\left(t \\right)} \\frac{d}{d t} m_{1}{\\left(t \\right)} \\frac{d}{d t} m_{2}{\\left(t \\right)} + m_{2}^{2}{\\left(t \\right)} \\left(\\frac{d}{d t} m_{1}{\\left(t \\right)}\\right)^{2}\\right) + b^{2} \\left(m_{1}^{2}{\\left(t \\right)} \\left(\\frac{d}{d t} m_{1}{\\left(t \\right)}\\right)^{2} + 2 m_{1}{\\left(t \\right)} m_{2}{\\left(t \\right)} \\frac{d}{d t} m_{1}{\\left(t \\right)} \\frac{d}{d t} m_{2}{\\left(t \\right)} + m_{2}^{2}{\\left(t \\right)} \\left(\\frac{d}{d t} m_{2}{\\left(t \\right)}\\right)^{2}\\right)}{a^{2} b^{2} \\left(\\left(\\frac{d}{d t} m_{1}{\\left(t \\right)}\\right)^{2} + \\left(\\frac{d}{d t} m_{2}{\\left(t \\right)}\\right)^{2}\\right)}$"
      ],
      "text/plain": [
       "<IPython.core.display.Math object>"
      ]
     },
     "metadata": {},
     "output_type": "display_data"
    },
    {
     "name": "stdout",
     "output_type": "stream",
     "text": [
      "\\frac{- a^{2} b^{2} \\left(\\left(\\frac{d}{d t} m_{1}{\\left(t \\right)}\\right)^{2} + \\left(\\frac{d}{d t} m_{2}{\\left(t \\right)}\\right)^{2}\\right) + a^{2} \\left(m_{1}^{2}{\\left(t \\right)} \\left(\\frac{d}{d t} m_{2}{\\left(t \\right)}\\right)^{2} - 2 m_{1}{\\left(t \\right)} m_{2}{\\left(t \\right)} \\frac{d}{d t} m_{1}{\\left(t \\right)} \\frac{d}{d t} m_{2}{\\left(t \\right)} + m_{2}^{2}{\\left(t \\right)} \\left(\\frac{d}{d t} m_{1}{\\left(t \\right)}\\right)^{2}\\right) + b^{2} \\left(m_{1}^{2}{\\left(t \\right)} \\left(\\frac{d}{d t} m_{1}{\\left(t \\right)}\\right)^{2} + 2 m_{1}{\\left(t \\right)} m_{2}{\\left(t \\right)} \\frac{d}{d t} m_{1}{\\left(t \\right)} \\frac{d}{d t} m_{2}{\\left(t \\right)} + m_{2}^{2}{\\left(t \\right)} \\left(\\frac{d}{d t} m_{2}{\\left(t \\right)}\\right)^{2}\\right)}{a^{2} b^{2} \\left(\\left(\\frac{d}{d t} m_{1}{\\left(t \\right)}\\right)^{2} + \\left(\\frac{d}{d t} m_{2}{\\left(t \\right)}\\right)^{2}\\right)}\n"
     ]
    }
   ],
   "source": [
    "expanded_expression = sp.expand(ellipse)\n",
    "A = expanded_expression.coeff(x**2)\n",
    "B = expanded_expression.coeff(x*y)\n",
    "C = expanded_expression.coeff(y**2)\n",
    "\n",
    "# Tu bolo potrebné odstrániť všetky koeficienty pri členoch x*y, x*z,..\n",
    "coef_x = expanded_expression.coeff(x)\n",
    "terms_x = sp.Add(*coef_x.args) if isinstance(coef_x, sp.Add) else coef_x\n",
    "terms_x_filtered = [term for term in sp.Add.make_args(terms_x) if not term.has(y)]\n",
    "D = sp.Add(*terms_x_filtered)\n",
    "\n",
    "coef_y = expanded_expression.coeff(y)\n",
    "terms_y = sp.Add(*coef_y.args) if isinstance(coef_y, sp.Add) else coef_y\n",
    "terms_y_filtered = [term for term in sp.Add.make_args(terms_y) if not term.has(x)]\n",
    "E = sp.Add(*terms_y_filtered)\n",
    "\n",
    "# Tu bolo potrebné odstrániť všetky koeficienty pri členoch x, y, z\n",
    "terms = sp.Add(*expanded_expression.args) if isinstance(expanded_expression, sp.Add) else expanded_expression\n",
    "terms_filtered = [term for term in sp.Add.make_args(terms) if not term.has(x) and not term.has(y)]\n",
    "F = sp.Add(*terms_filtered)\n",
    "\n",
    "# Print koeficientov\n",
    "print(\"Coefficient of x^2:\")\n",
    "display(Math(sp.latex(sp.simplify(A))))\n",
    "print(sp.latex(sp.simplify(A)))\n",
    "print(\"Coefficient of y^2:\")\n",
    "display(Math(sp.latex(sp.simplify(C))))\n",
    "print(sp.latex(sp.simplify(C)))\n",
    "print(\"Coefficient of xy:\") \n",
    "display(Math(sp.latex(sp.simplify(B))))\n",
    "print(sp.latex(sp.simplify(B)))\n",
    "print(\"Coefficient of x:\")\n",
    "display(Math(sp.latex(sp.simplify(D))))\n",
    "print(sp.latex(sp.simplify(D)))\n",
    "print(\"Coefficient of y:\")\n",
    "display(Math(sp.latex(sp.simplify(E))))\n",
    "print(sp.latex(sp.simplify(E)))\n",
    "print(\"Coefficient of constant term:\")\n",
    "display(Math(sp.latex(sp.simplify(F))))\n",
    "print(sp.latex(sp.simplify(F)))"
   ]
  },
  {
   "cell_type": "code",
   "execution_count": 49,
   "metadata": {},
   "outputs": [
    {
     "name": "stdout",
     "output_type": "stream",
     "text": [
      "Coefficient of x^2:\n"
     ]
    },
    {
     "data": {
      "text/latex": [
       "$\\displaystyle \\frac{2 \\left(a^{2} \\frac{d}{d t} m_{1}{\\left(t \\right)} \\frac{d^{2}}{d t^{2}} m_{2}{\\left(t \\right)} - a^{2} \\frac{d^{2}}{d t^{2}} m_{1}{\\left(t \\right)} \\frac{d}{d t} m_{2}{\\left(t \\right)} - b^{2} \\frac{d}{d t} m_{1}{\\left(t \\right)} \\frac{d^{2}}{d t^{2}} m_{2}{\\left(t \\right)} + b^{2} \\frac{d^{2}}{d t^{2}} m_{1}{\\left(t \\right)} \\frac{d}{d t} m_{2}{\\left(t \\right)}\\right) \\frac{d}{d t} m_{1}{\\left(t \\right)} \\frac{d}{d t} m_{2}{\\left(t \\right)}}{a^{2} b^{2} \\left(\\left(\\frac{d}{d t} m_{1}{\\left(t \\right)}\\right)^{4} + 2 \\left(\\frac{d}{d t} m_{1}{\\left(t \\right)}\\right)^{2} \\left(\\frac{d}{d t} m_{2}{\\left(t \\right)}\\right)^{2} + \\left(\\frac{d}{d t} m_{2}{\\left(t \\right)}\\right)^{4}\\right)}$"
      ],
      "text/plain": [
       "<IPython.core.display.Math object>"
      ]
     },
     "metadata": {},
     "output_type": "display_data"
    },
    {
     "name": "stdout",
     "output_type": "stream",
     "text": [
      "\\frac{2 \\left(a^{2} \\frac{d}{d t} m_{1}{\\left(t \\right)} \\frac{d^{2}}{d t^{2}} m_{2}{\\left(t \\right)} - a^{2} \\frac{d^{2}}{d t^{2}} m_{1}{\\left(t \\right)} \\frac{d}{d t} m_{2}{\\left(t \\right)} - b^{2} \\frac{d}{d t} m_{1}{\\left(t \\right)} \\frac{d^{2}}{d t^{2}} m_{2}{\\left(t \\right)} + b^{2} \\frac{d^{2}}{d t^{2}} m_{1}{\\left(t \\right)} \\frac{d}{d t} m_{2}{\\left(t \\right)}\\right) \\frac{d}{d t} m_{1}{\\left(t \\right)} \\frac{d}{d t} m_{2}{\\left(t \\right)}}{a^{2} b^{2} \\left(\\left(\\frac{d}{d t} m_{1}{\\left(t \\right)}\\right)^{4} + 2 \\left(\\frac{d}{d t} m_{1}{\\left(t \\right)}\\right)^{2} \\left(\\frac{d}{d t} m_{2}{\\left(t \\right)}\\right)^{2} + \\left(\\frac{d}{d t} m_{2}{\\left(t \\right)}\\right)^{4}\\right)}\n",
      "Coefficient of y^2:\n"
     ]
    },
    {
     "data": {
      "text/latex": [
       "$\\displaystyle \\frac{2 \\left(- a^{2} \\frac{d}{d t} m_{1}{\\left(t \\right)} \\frac{d^{2}}{d t^{2}} m_{2}{\\left(t \\right)} + a^{2} \\frac{d^{2}}{d t^{2}} m_{1}{\\left(t \\right)} \\frac{d}{d t} m_{2}{\\left(t \\right)} + b^{2} \\frac{d}{d t} m_{1}{\\left(t \\right)} \\frac{d^{2}}{d t^{2}} m_{2}{\\left(t \\right)} - b^{2} \\frac{d^{2}}{d t^{2}} m_{1}{\\left(t \\right)} \\frac{d}{d t} m_{2}{\\left(t \\right)}\\right) \\frac{d}{d t} m_{1}{\\left(t \\right)} \\frac{d}{d t} m_{2}{\\left(t \\right)}}{a^{2} b^{2} \\left(\\left(\\frac{d}{d t} m_{1}{\\left(t \\right)}\\right)^{4} + 2 \\left(\\frac{d}{d t} m_{1}{\\left(t \\right)}\\right)^{2} \\left(\\frac{d}{d t} m_{2}{\\left(t \\right)}\\right)^{2} + \\left(\\frac{d}{d t} m_{2}{\\left(t \\right)}\\right)^{4}\\right)}$"
      ],
      "text/plain": [
       "<IPython.core.display.Math object>"
      ]
     },
     "metadata": {},
     "output_type": "display_data"
    },
    {
     "name": "stdout",
     "output_type": "stream",
     "text": [
      "\\frac{2 \\left(- a^{2} \\frac{d}{d t} m_{1}{\\left(t \\right)} \\frac{d^{2}}{d t^{2}} m_{2}{\\left(t \\right)} + a^{2} \\frac{d^{2}}{d t^{2}} m_{1}{\\left(t \\right)} \\frac{d}{d t} m_{2}{\\left(t \\right)} + b^{2} \\frac{d}{d t} m_{1}{\\left(t \\right)} \\frac{d^{2}}{d t^{2}} m_{2}{\\left(t \\right)} - b^{2} \\frac{d^{2}}{d t^{2}} m_{1}{\\left(t \\right)} \\frac{d}{d t} m_{2}{\\left(t \\right)}\\right) \\frac{d}{d t} m_{1}{\\left(t \\right)} \\frac{d}{d t} m_{2}{\\left(t \\right)}}{a^{2} b^{2} \\left(\\left(\\frac{d}{d t} m_{1}{\\left(t \\right)}\\right)^{4} + 2 \\left(\\frac{d}{d t} m_{1}{\\left(t \\right)}\\right)^{2} \\left(\\frac{d}{d t} m_{2}{\\left(t \\right)}\\right)^{2} + \\left(\\frac{d}{d t} m_{2}{\\left(t \\right)}\\right)^{4}\\right)}\n",
      "Coefficient of xy:\n"
     ]
    },
    {
     "data": {
      "text/latex": [
       "$\\displaystyle \\frac{2 \\cdot \\left(2 a^{2} \\left(\\frac{d}{d t} m_{1}{\\left(t \\right)} \\frac{d^{2}}{d t^{2}} m_{1}{\\left(t \\right)} + \\frac{d}{d t} m_{2}{\\left(t \\right)} \\frac{d^{2}}{d t^{2}} m_{2}{\\left(t \\right)}\\right) \\frac{d}{d t} m_{1}{\\left(t \\right)} \\frac{d}{d t} m_{2}{\\left(t \\right)} - a^{2} \\left(\\frac{d}{d t} m_{1}{\\left(t \\right)} \\frac{d^{2}}{d t^{2}} m_{2}{\\left(t \\right)} + \\frac{d^{2}}{d t^{2}} m_{1}{\\left(t \\right)} \\frac{d}{d t} m_{2}{\\left(t \\right)}\\right) \\left(\\left(\\frac{d}{d t} m_{1}{\\left(t \\right)}\\right)^{2} + \\left(\\frac{d}{d t} m_{2}{\\left(t \\right)}\\right)^{2}\\right) - 2 b^{2} \\left(\\frac{d}{d t} m_{1}{\\left(t \\right)} \\frac{d^{2}}{d t^{2}} m_{1}{\\left(t \\right)} + \\frac{d}{d t} m_{2}{\\left(t \\right)} \\frac{d^{2}}{d t^{2}} m_{2}{\\left(t \\right)}\\right) \\frac{d}{d t} m_{1}{\\left(t \\right)} \\frac{d}{d t} m_{2}{\\left(t \\right)} + b^{2} \\left(\\frac{d}{d t} m_{1}{\\left(t \\right)} \\frac{d^{2}}{d t^{2}} m_{2}{\\left(t \\right)} + \\frac{d^{2}}{d t^{2}} m_{1}{\\left(t \\right)} \\frac{d}{d t} m_{2}{\\left(t \\right)}\\right) \\left(\\left(\\frac{d}{d t} m_{1}{\\left(t \\right)}\\right)^{2} + \\left(\\frac{d}{d t} m_{2}{\\left(t \\right)}\\right)^{2}\\right)\\right)}{a^{2} b^{2} \\left(\\left(\\frac{d}{d t} m_{1}{\\left(t \\right)}\\right)^{2} + \\left(\\frac{d}{d t} m_{2}{\\left(t \\right)}\\right)^{2}\\right)^{2}}$"
      ],
      "text/plain": [
       "<IPython.core.display.Math object>"
      ]
     },
     "metadata": {},
     "output_type": "display_data"
    },
    {
     "name": "stdout",
     "output_type": "stream",
     "text": [
      "\\frac{2 \\cdot \\left(2 a^{2} \\left(\\frac{d}{d t} m_{1}{\\left(t \\right)} \\frac{d^{2}}{d t^{2}} m_{1}{\\left(t \\right)} + \\frac{d}{d t} m_{2}{\\left(t \\right)} \\frac{d^{2}}{d t^{2}} m_{2}{\\left(t \\right)}\\right) \\frac{d}{d t} m_{1}{\\left(t \\right)} \\frac{d}{d t} m_{2}{\\left(t \\right)} - a^{2} \\left(\\frac{d}{d t} m_{1}{\\left(t \\right)} \\frac{d^{2}}{d t^{2}} m_{2}{\\left(t \\right)} + \\frac{d^{2}}{d t^{2}} m_{1}{\\left(t \\right)} \\frac{d}{d t} m_{2}{\\left(t \\right)}\\right) \\left(\\left(\\frac{d}{d t} m_{1}{\\left(t \\right)}\\right)^{2} + \\left(\\frac{d}{d t} m_{2}{\\left(t \\right)}\\right)^{2}\\right) - 2 b^{2} \\left(\\frac{d}{d t} m_{1}{\\left(t \\right)} \\frac{d^{2}}{d t^{2}} m_{1}{\\left(t \\right)} + \\frac{d}{d t} m_{2}{\\left(t \\right)} \\frac{d^{2}}{d t^{2}} m_{2}{\\left(t \\right)}\\right) \\frac{d}{d t} m_{1}{\\left(t \\right)} \\frac{d}{d t} m_{2}{\\left(t \\right)} + b^{2} \\left(\\frac{d}{d t} m_{1}{\\left(t \\right)} \\frac{d^{2}}{d t^{2}} m_{2}{\\left(t \\right)} + \\frac{d^{2}}{d t^{2}} m_{1}{\\left(t \\right)} \\frac{d}{d t} m_{2}{\\left(t \\right)}\\right) \\left(\\left(\\frac{d}{d t} m_{1}{\\left(t \\right)}\\right)^{2} + \\left(\\frac{d}{d t} m_{2}{\\left(t \\right)}\\right)^{2}\\right)\\right)}{a^{2} b^{2} \\left(\\left(\\frac{d}{d t} m_{1}{\\left(t \\right)}\\right)^{2} + \\left(\\frac{d}{d t} m_{2}{\\left(t \\right)}\\right)^{2}\\right)^{2}}\n",
      "Coefficient of x:\n"
     ]
    },
    {
     "data": {
      "text/latex": [
       "$\\displaystyle \\frac{2 \\cdot \\left(2 a^{2} \\left(m_{1}{\\left(t \\right)} \\frac{d}{d t} m_{2}{\\left(t \\right)} - m_{2}{\\left(t \\right)} \\frac{d}{d t} m_{1}{\\left(t \\right)}\\right) \\left(\\frac{d}{d t} m_{1}{\\left(t \\right)} \\frac{d^{2}}{d t^{2}} m_{1}{\\left(t \\right)} + \\frac{d}{d t} m_{2}{\\left(t \\right)} \\frac{d^{2}}{d t^{2}} m_{2}{\\left(t \\right)}\\right) \\frac{d}{d t} m_{2}{\\left(t \\right)} + a^{2} \\left(\\left(\\frac{d}{d t} m_{1}{\\left(t \\right)}\\right)^{2} + \\left(\\frac{d}{d t} m_{2}{\\left(t \\right)}\\right)^{2}\\right) \\left(- 2 m_{1}{\\left(t \\right)} \\frac{d}{d t} m_{2}{\\left(t \\right)} \\frac{d^{2}}{d t^{2}} m_{2}{\\left(t \\right)} + m_{2}{\\left(t \\right)} \\frac{d}{d t} m_{1}{\\left(t \\right)} \\frac{d^{2}}{d t^{2}} m_{2}{\\left(t \\right)} + m_{2}{\\left(t \\right)} \\frac{d^{2}}{d t^{2}} m_{1}{\\left(t \\right)} \\frac{d}{d t} m_{2}{\\left(t \\right)}\\right) + 2 b^{2} \\left(m_{1}{\\left(t \\right)} \\frac{d}{d t} m_{1}{\\left(t \\right)} + m_{2}{\\left(t \\right)} \\frac{d}{d t} m_{2}{\\left(t \\right)}\\right) \\left(\\frac{d}{d t} m_{1}{\\left(t \\right)} \\frac{d^{2}}{d t^{2}} m_{1}{\\left(t \\right)} + \\frac{d}{d t} m_{2}{\\left(t \\right)} \\frac{d^{2}}{d t^{2}} m_{2}{\\left(t \\right)}\\right) \\frac{d}{d t} m_{1}{\\left(t \\right)} - b^{2} \\left(\\left(\\frac{d}{d t} m_{1}{\\left(t \\right)}\\right)^{2} + \\left(\\frac{d}{d t} m_{2}{\\left(t \\right)}\\right)^{2}\\right) \\left(2 m_{1}{\\left(t \\right)} \\frac{d}{d t} m_{1}{\\left(t \\right)} \\frac{d^{2}}{d t^{2}} m_{1}{\\left(t \\right)} + m_{2}{\\left(t \\right)} \\frac{d}{d t} m_{1}{\\left(t \\right)} \\frac{d^{2}}{d t^{2}} m_{2}{\\left(t \\right)} + m_{2}{\\left(t \\right)} \\frac{d^{2}}{d t^{2}} m_{1}{\\left(t \\right)} \\frac{d}{d t} m_{2}{\\left(t \\right)} + \\left(\\frac{d}{d t} m_{1}{\\left(t \\right)}\\right)^{3} + \\frac{d}{d t} m_{1}{\\left(t \\right)} \\left(\\frac{d}{d t} m_{2}{\\left(t \\right)}\\right)^{2}\\right)\\right)}{a^{2} b^{2} \\left(\\left(\\frac{d}{d t} m_{1}{\\left(t \\right)}\\right)^{2} + \\left(\\frac{d}{d t} m_{2}{\\left(t \\right)}\\right)^{2}\\right)^{2}}$"
      ],
      "text/plain": [
       "<IPython.core.display.Math object>"
      ]
     },
     "metadata": {},
     "output_type": "display_data"
    },
    {
     "name": "stdout",
     "output_type": "stream",
     "text": [
      "\\frac{2 \\cdot \\left(2 a^{2} \\left(m_{1}{\\left(t \\right)} \\frac{d}{d t} m_{2}{\\left(t \\right)} - m_{2}{\\left(t \\right)} \\frac{d}{d t} m_{1}{\\left(t \\right)}\\right) \\left(\\frac{d}{d t} m_{1}{\\left(t \\right)} \\frac{d^{2}}{d t^{2}} m_{1}{\\left(t \\right)} + \\frac{d}{d t} m_{2}{\\left(t \\right)} \\frac{d^{2}}{d t^{2}} m_{2}{\\left(t \\right)}\\right) \\frac{d}{d t} m_{2}{\\left(t \\right)} + a^{2} \\left(\\left(\\frac{d}{d t} m_{1}{\\left(t \\right)}\\right)^{2} + \\left(\\frac{d}{d t} m_{2}{\\left(t \\right)}\\right)^{2}\\right) \\left(- 2 m_{1}{\\left(t \\right)} \\frac{d}{d t} m_{2}{\\left(t \\right)} \\frac{d^{2}}{d t^{2}} m_{2}{\\left(t \\right)} + m_{2}{\\left(t \\right)} \\frac{d}{d t} m_{1}{\\left(t \\right)} \\frac{d^{2}}{d t^{2}} m_{2}{\\left(t \\right)} + m_{2}{\\left(t \\right)} \\frac{d^{2}}{d t^{2}} m_{1}{\\left(t \\right)} \\frac{d}{d t} m_{2}{\\left(t \\right)}\\right) + 2 b^{2} \\left(m_{1}{\\left(t \\right)} \\frac{d}{d t} m_{1}{\\left(t \\right)} + m_{2}{\\left(t \\right)} \\frac{d}{d t} m_{2}{\\left(t \\right)}\\right) \\left(\\frac{d}{d t} m_{1}{\\left(t \\right)} \\frac{d^{2}}{d t^{2}} m_{1}{\\left(t \\right)} + \\frac{d}{d t} m_{2}{\\left(t \\right)} \\frac{d^{2}}{d t^{2}} m_{2}{\\left(t \\right)}\\right) \\frac{d}{d t} m_{1}{\\left(t \\right)} - b^{2} \\left(\\left(\\frac{d}{d t} m_{1}{\\left(t \\right)}\\right)^{2} + \\left(\\frac{d}{d t} m_{2}{\\left(t \\right)}\\right)^{2}\\right) \\left(2 m_{1}{\\left(t \\right)} \\frac{d}{d t} m_{1}{\\left(t \\right)} \\frac{d^{2}}{d t^{2}} m_{1}{\\left(t \\right)} + m_{2}{\\left(t \\right)} \\frac{d}{d t} m_{1}{\\left(t \\right)} \\frac{d^{2}}{d t^{2}} m_{2}{\\left(t \\right)} + m_{2}{\\left(t \\right)} \\frac{d^{2}}{d t^{2}} m_{1}{\\left(t \\right)} \\frac{d}{d t} m_{2}{\\left(t \\right)} + \\left(\\frac{d}{d t} m_{1}{\\left(t \\right)}\\right)^{3} + \\frac{d}{d t} m_{1}{\\left(t \\right)} \\left(\\frac{d}{d t} m_{2}{\\left(t \\right)}\\right)^{2}\\right)\\right)}{a^{2} b^{2} \\left(\\left(\\frac{d}{d t} m_{1}{\\left(t \\right)}\\right)^{2} + \\left(\\frac{d}{d t} m_{2}{\\left(t \\right)}\\right)^{2}\\right)^{2}}\n",
      "Coefficient of y:\n"
     ]
    },
    {
     "data": {
      "text/latex": [
       "$\\displaystyle \\frac{2 \\cdot \\left(2 a^{2} \\left(- m_{1}{\\left(t \\right)} \\frac{d}{d t} m_{2}{\\left(t \\right)} + m_{2}{\\left(t \\right)} \\frac{d}{d t} m_{1}{\\left(t \\right)}\\right) \\left(\\frac{d}{d t} m_{1}{\\left(t \\right)} \\frac{d^{2}}{d t^{2}} m_{1}{\\left(t \\right)} + \\frac{d}{d t} m_{2}{\\left(t \\right)} \\frac{d^{2}}{d t^{2}} m_{2}{\\left(t \\right)}\\right) \\frac{d}{d t} m_{1}{\\left(t \\right)} + a^{2} \\left(\\left(\\frac{d}{d t} m_{1}{\\left(t \\right)}\\right)^{2} + \\left(\\frac{d}{d t} m_{2}{\\left(t \\right)}\\right)^{2}\\right) \\left(m_{1}{\\left(t \\right)} \\frac{d}{d t} m_{1}{\\left(t \\right)} \\frac{d^{2}}{d t^{2}} m_{2}{\\left(t \\right)} + m_{1}{\\left(t \\right)} \\frac{d^{2}}{d t^{2}} m_{1}{\\left(t \\right)} \\frac{d}{d t} m_{2}{\\left(t \\right)} - 2 m_{2}{\\left(t \\right)} \\frac{d}{d t} m_{1}{\\left(t \\right)} \\frac{d^{2}}{d t^{2}} m_{1}{\\left(t \\right)}\\right) + 2 b^{2} \\left(m_{1}{\\left(t \\right)} \\frac{d}{d t} m_{1}{\\left(t \\right)} + m_{2}{\\left(t \\right)} \\frac{d}{d t} m_{2}{\\left(t \\right)}\\right) \\left(\\frac{d}{d t} m_{1}{\\left(t \\right)} \\frac{d^{2}}{d t^{2}} m_{1}{\\left(t \\right)} + \\frac{d}{d t} m_{2}{\\left(t \\right)} \\frac{d^{2}}{d t^{2}} m_{2}{\\left(t \\right)}\\right) \\frac{d}{d t} m_{2}{\\left(t \\right)} - b^{2} \\left(\\left(\\frac{d}{d t} m_{1}{\\left(t \\right)}\\right)^{2} + \\left(\\frac{d}{d t} m_{2}{\\left(t \\right)}\\right)^{2}\\right) \\left(m_{1}{\\left(t \\right)} \\frac{d}{d t} m_{1}{\\left(t \\right)} \\frac{d^{2}}{d t^{2}} m_{2}{\\left(t \\right)} + m_{1}{\\left(t \\right)} \\frac{d^{2}}{d t^{2}} m_{1}{\\left(t \\right)} \\frac{d}{d t} m_{2}{\\left(t \\right)} + 2 m_{2}{\\left(t \\right)} \\frac{d}{d t} m_{2}{\\left(t \\right)} \\frac{d^{2}}{d t^{2}} m_{2}{\\left(t \\right)} + \\left(\\frac{d}{d t} m_{1}{\\left(t \\right)}\\right)^{2} \\frac{d}{d t} m_{2}{\\left(t \\right)} + \\left(\\frac{d}{d t} m_{2}{\\left(t \\right)}\\right)^{3}\\right)\\right)}{a^{2} b^{2} \\left(\\left(\\frac{d}{d t} m_{1}{\\left(t \\right)}\\right)^{2} + \\left(\\frac{d}{d t} m_{2}{\\left(t \\right)}\\right)^{2}\\right)^{2}}$"
      ],
      "text/plain": [
       "<IPython.core.display.Math object>"
      ]
     },
     "metadata": {},
     "output_type": "display_data"
    },
    {
     "name": "stdout",
     "output_type": "stream",
     "text": [
      "\\frac{2 \\cdot \\left(2 a^{2} \\left(- m_{1}{\\left(t \\right)} \\frac{d}{d t} m_{2}{\\left(t \\right)} + m_{2}{\\left(t \\right)} \\frac{d}{d t} m_{1}{\\left(t \\right)}\\right) \\left(\\frac{d}{d t} m_{1}{\\left(t \\right)} \\frac{d^{2}}{d t^{2}} m_{1}{\\left(t \\right)} + \\frac{d}{d t} m_{2}{\\left(t \\right)} \\frac{d^{2}}{d t^{2}} m_{2}{\\left(t \\right)}\\right) \\frac{d}{d t} m_{1}{\\left(t \\right)} + a^{2} \\left(\\left(\\frac{d}{d t} m_{1}{\\left(t \\right)}\\right)^{2} + \\left(\\frac{d}{d t} m_{2}{\\left(t \\right)}\\right)^{2}\\right) \\left(m_{1}{\\left(t \\right)} \\frac{d}{d t} m_{1}{\\left(t \\right)} \\frac{d^{2}}{d t^{2}} m_{2}{\\left(t \\right)} + m_{1}{\\left(t \\right)} \\frac{d^{2}}{d t^{2}} m_{1}{\\left(t \\right)} \\frac{d}{d t} m_{2}{\\left(t \\right)} - 2 m_{2}{\\left(t \\right)} \\frac{d}{d t} m_{1}{\\left(t \\right)} \\frac{d^{2}}{d t^{2}} m_{1}{\\left(t \\right)}\\right) + 2 b^{2} \\left(m_{1}{\\left(t \\right)} \\frac{d}{d t} m_{1}{\\left(t \\right)} + m_{2}{\\left(t \\right)} \\frac{d}{d t} m_{2}{\\left(t \\right)}\\right) \\left(\\frac{d}{d t} m_{1}{\\left(t \\right)} \\frac{d^{2}}{d t^{2}} m_{1}{\\left(t \\right)} + \\frac{d}{d t} m_{2}{\\left(t \\right)} \\frac{d^{2}}{d t^{2}} m_{2}{\\left(t \\right)}\\right) \\frac{d}{d t} m_{2}{\\left(t \\right)} - b^{2} \\left(\\left(\\frac{d}{d t} m_{1}{\\left(t \\right)}\\right)^{2} + \\left(\\frac{d}{d t} m_{2}{\\left(t \\right)}\\right)^{2}\\right) \\left(m_{1}{\\left(t \\right)} \\frac{d}{d t} m_{1}{\\left(t \\right)} \\frac{d^{2}}{d t^{2}} m_{2}{\\left(t \\right)} + m_{1}{\\left(t \\right)} \\frac{d^{2}}{d t^{2}} m_{1}{\\left(t \\right)} \\frac{d}{d t} m_{2}{\\left(t \\right)} + 2 m_{2}{\\left(t \\right)} \\frac{d}{d t} m_{2}{\\left(t \\right)} \\frac{d^{2}}{d t^{2}} m_{2}{\\left(t \\right)} + \\left(\\frac{d}{d t} m_{1}{\\left(t \\right)}\\right)^{2} \\frac{d}{d t} m_{2}{\\left(t \\right)} + \\left(\\frac{d}{d t} m_{2}{\\left(t \\right)}\\right)^{3}\\right)\\right)}{a^{2} b^{2} \\left(\\left(\\frac{d}{d t} m_{1}{\\left(t \\right)}\\right)^{2} + \\left(\\frac{d}{d t} m_{2}{\\left(t \\right)}\\right)^{2}\\right)^{2}}\n",
      "Coefficient of constant term:\n"
     ]
    },
    {
     "data": {
      "text/latex": [
       "$\\displaystyle \\frac{2 \\left(a^{2} \\left(\\frac{d}{d t} m_{1}{\\left(t \\right)} \\frac{d^{2}}{d t^{2}} m_{1}{\\left(t \\right)} + \\frac{d}{d t} m_{2}{\\left(t \\right)} \\frac{d^{2}}{d t^{2}} m_{2}{\\left(t \\right)}\\right) \\left(- m_{1}^{2}{\\left(t \\right)} \\left(\\frac{d}{d t} m_{2}{\\left(t \\right)}\\right)^{2} + 2 m_{1}{\\left(t \\right)} m_{2}{\\left(t \\right)} \\frac{d}{d t} m_{1}{\\left(t \\right)} \\frac{d}{d t} m_{2}{\\left(t \\right)} - m_{2}^{2}{\\left(t \\right)} \\left(\\frac{d}{d t} m_{1}{\\left(t \\right)}\\right)^{2}\\right) + a^{2} \\left(\\left(\\frac{d}{d t} m_{1}{\\left(t \\right)}\\right)^{2} + \\left(\\frac{d}{d t} m_{2}{\\left(t \\right)}\\right)^{2}\\right) \\left(m_{1}^{2}{\\left(t \\right)} \\frac{d}{d t} m_{2}{\\left(t \\right)} \\frac{d^{2}}{d t^{2}} m_{2}{\\left(t \\right)} - m_{1}{\\left(t \\right)} m_{2}{\\left(t \\right)} \\frac{d}{d t} m_{1}{\\left(t \\right)} \\frac{d^{2}}{d t^{2}} m_{2}{\\left(t \\right)} - m_{1}{\\left(t \\right)} m_{2}{\\left(t \\right)} \\frac{d^{2}}{d t^{2}} m_{1}{\\left(t \\right)} \\frac{d}{d t} m_{2}{\\left(t \\right)} + m_{2}^{2}{\\left(t \\right)} \\frac{d}{d t} m_{1}{\\left(t \\right)} \\frac{d^{2}}{d t^{2}} m_{1}{\\left(t \\right)}\\right) - b^{2} \\left(\\frac{d}{d t} m_{1}{\\left(t \\right)} \\frac{d^{2}}{d t^{2}} m_{1}{\\left(t \\right)} + \\frac{d}{d t} m_{2}{\\left(t \\right)} \\frac{d^{2}}{d t^{2}} m_{2}{\\left(t \\right)}\\right) \\left(m_{1}^{2}{\\left(t \\right)} \\left(\\frac{d}{d t} m_{1}{\\left(t \\right)}\\right)^{2} + 2 m_{1}{\\left(t \\right)} m_{2}{\\left(t \\right)} \\frac{d}{d t} m_{1}{\\left(t \\right)} \\frac{d}{d t} m_{2}{\\left(t \\right)} + m_{2}^{2}{\\left(t \\right)} \\left(\\frac{d}{d t} m_{2}{\\left(t \\right)}\\right)^{2}\\right) + b^{2} \\left(\\left(\\frac{d}{d t} m_{1}{\\left(t \\right)}\\right)^{2} + \\left(\\frac{d}{d t} m_{2}{\\left(t \\right)}\\right)^{2}\\right) \\left(m_{1}^{2}{\\left(t \\right)} \\frac{d}{d t} m_{1}{\\left(t \\right)} \\frac{d^{2}}{d t^{2}} m_{1}{\\left(t \\right)} + m_{1}{\\left(t \\right)} m_{2}{\\left(t \\right)} \\frac{d}{d t} m_{1}{\\left(t \\right)} \\frac{d^{2}}{d t^{2}} m_{2}{\\left(t \\right)} + m_{1}{\\left(t \\right)} m_{2}{\\left(t \\right)} \\frac{d^{2}}{d t^{2}} m_{1}{\\left(t \\right)} \\frac{d}{d t} m_{2}{\\left(t \\right)} + m_{1}{\\left(t \\right)} \\left(\\frac{d}{d t} m_{1}{\\left(t \\right)}\\right)^{3} + m_{1}{\\left(t \\right)} \\frac{d}{d t} m_{1}{\\left(t \\right)} \\left(\\frac{d}{d t} m_{2}{\\left(t \\right)}\\right)^{2} + m_{2}^{2}{\\left(t \\right)} \\frac{d}{d t} m_{2}{\\left(t \\right)} \\frac{d^{2}}{d t^{2}} m_{2}{\\left(t \\right)} + m_{2}{\\left(t \\right)} \\left(\\frac{d}{d t} m_{1}{\\left(t \\right)}\\right)^{2} \\frac{d}{d t} m_{2}{\\left(t \\right)} + m_{2}{\\left(t \\right)} \\left(\\frac{d}{d t} m_{2}{\\left(t \\right)}\\right)^{3}\\right)\\right)}{a^{2} b^{2} \\left(\\left(\\frac{d}{d t} m_{1}{\\left(t \\right)}\\right)^{2} + \\left(\\frac{d}{d t} m_{2}{\\left(t \\right)}\\right)^{2}\\right)^{2}}$"
      ],
      "text/plain": [
       "<IPython.core.display.Math object>"
      ]
     },
     "metadata": {},
     "output_type": "display_data"
    },
    {
     "name": "stdout",
     "output_type": "stream",
     "text": [
      "\\frac{2 \\left(a^{2} \\left(\\frac{d}{d t} m_{1}{\\left(t \\right)} \\frac{d^{2}}{d t^{2}} m_{1}{\\left(t \\right)} + \\frac{d}{d t} m_{2}{\\left(t \\right)} \\frac{d^{2}}{d t^{2}} m_{2}{\\left(t \\right)}\\right) \\left(- m_{1}^{2}{\\left(t \\right)} \\left(\\frac{d}{d t} m_{2}{\\left(t \\right)}\\right)^{2} + 2 m_{1}{\\left(t \\right)} m_{2}{\\left(t \\right)} \\frac{d}{d t} m_{1}{\\left(t \\right)} \\frac{d}{d t} m_{2}{\\left(t \\right)} - m_{2}^{2}{\\left(t \\right)} \\left(\\frac{d}{d t} m_{1}{\\left(t \\right)}\\right)^{2}\\right) + a^{2} \\left(\\left(\\frac{d}{d t} m_{1}{\\left(t \\right)}\\right)^{2} + \\left(\\frac{d}{d t} m_{2}{\\left(t \\right)}\\right)^{2}\\right) \\left(m_{1}^{2}{\\left(t \\right)} \\frac{d}{d t} m_{2}{\\left(t \\right)} \\frac{d^{2}}{d t^{2}} m_{2}{\\left(t \\right)} - m_{1}{\\left(t \\right)} m_{2}{\\left(t \\right)} \\frac{d}{d t} m_{1}{\\left(t \\right)} \\frac{d^{2}}{d t^{2}} m_{2}{\\left(t \\right)} - m_{1}{\\left(t \\right)} m_{2}{\\left(t \\right)} \\frac{d^{2}}{d t^{2}} m_{1}{\\left(t \\right)} \\frac{d}{d t} m_{2}{\\left(t \\right)} + m_{2}^{2}{\\left(t \\right)} \\frac{d}{d t} m_{1}{\\left(t \\right)} \\frac{d^{2}}{d t^{2}} m_{1}{\\left(t \\right)}\\right) - b^{2} \\left(\\frac{d}{d t} m_{1}{\\left(t \\right)} \\frac{d^{2}}{d t^{2}} m_{1}{\\left(t \\right)} + \\frac{d}{d t} m_{2}{\\left(t \\right)} \\frac{d^{2}}{d t^{2}} m_{2}{\\left(t \\right)}\\right) \\left(m_{1}^{2}{\\left(t \\right)} \\left(\\frac{d}{d t} m_{1}{\\left(t \\right)}\\right)^{2} + 2 m_{1}{\\left(t \\right)} m_{2}{\\left(t \\right)} \\frac{d}{d t} m_{1}{\\left(t \\right)} \\frac{d}{d t} m_{2}{\\left(t \\right)} + m_{2}^{2}{\\left(t \\right)} \\left(\\frac{d}{d t} m_{2}{\\left(t \\right)}\\right)^{2}\\right) + b^{2} \\left(\\left(\\frac{d}{d t} m_{1}{\\left(t \\right)}\\right)^{2} + \\left(\\frac{d}{d t} m_{2}{\\left(t \\right)}\\right)^{2}\\right) \\left(m_{1}^{2}{\\left(t \\right)} \\frac{d}{d t} m_{1}{\\left(t \\right)} \\frac{d^{2}}{d t^{2}} m_{1}{\\left(t \\right)} + m_{1}{\\left(t \\right)} m_{2}{\\left(t \\right)} \\frac{d}{d t} m_{1}{\\left(t \\right)} \\frac{d^{2}}{d t^{2}} m_{2}{\\left(t \\right)} + m_{1}{\\left(t \\right)} m_{2}{\\left(t \\right)} \\frac{d^{2}}{d t^{2}} m_{1}{\\left(t \\right)} \\frac{d}{d t} m_{2}{\\left(t \\right)} + m_{1}{\\left(t \\right)} \\left(\\frac{d}{d t} m_{1}{\\left(t \\right)}\\right)^{3} + m_{1}{\\left(t \\right)} \\frac{d}{d t} m_{1}{\\left(t \\right)} \\left(\\frac{d}{d t} m_{2}{\\left(t \\right)}\\right)^{2} + m_{2}^{2}{\\left(t \\right)} \\frac{d}{d t} m_{2}{\\left(t \\right)} \\frac{d^{2}}{d t^{2}} m_{2}{\\left(t \\right)} + m_{2}{\\left(t \\right)} \\left(\\frac{d}{d t} m_{1}{\\left(t \\right)}\\right)^{2} \\frac{d}{d t} m_{2}{\\left(t \\right)} + m_{2}{\\left(t \\right)} \\left(\\frac{d}{d t} m_{2}{\\left(t \\right)}\\right)^{3}\\right)\\right)}{a^{2} b^{2} \\left(\\left(\\frac{d}{d t} m_{1}{\\left(t \\right)}\\right)^{2} + \\left(\\frac{d}{d t} m_{2}{\\left(t \\right)}\\right)^{2}\\right)^{2}}\n",
      "\\frac{2 \\left(a^{2} \\left(\\dot{m}_{1}{\\left(t \\right)} \\ddot{m}_{1}{\\left(t \\right)} + \\dot{m}_{2}{\\left(t \\right)} \\ddot{m}_{2}{\\left(t \\right)}\\right) \\left(- m_{1}^{2}{\\left(t \\right)} \\left(\\dot{m}_{2}{\\left(t \\right)}\\right)^{2} + 2 m_{1}{\\left(t \\right)} m_{2}{\\left(t \\right)} \\dot{m}_{1}{\\left(t \\right)} \\dot{m}_{2}{\\left(t \\right)} - m_{2}^{2}{\\left(t \\right)} \\left(\\dot{m}_{1}{\\left(t \\right)}\\right)^{2}\\right) + a^{2} \\left(\\left(\\dot{m}_{1}{\\left(t \\right)}\\right)^{2} + \\left(\\dot{m}_{2}{\\left(t \\right)}\\right)^{2}\\right) \\left(m_{1}^{2}{\\left(t \\right)} \\dot{m}_{2}{\\left(t \\right)} \\ddot{m}_{2}{\\left(t \\right)} - m_{1}{\\left(t \\right)} m_{2}{\\left(t \\right)} \\dot{m}_{1}{\\left(t \\right)} \\ddot{m}_{2}{\\left(t \\right)} - m_{1}{\\left(t \\right)} m_{2}{\\left(t \\right)} \\ddot{m}_{1}{\\left(t \\right)} \\dot{m}_{2}{\\left(t \\right)} + m_{2}^{2}{\\left(t \\right)} \\dot{m}_{1}{\\left(t \\right)} \\ddot{m}_{1}{\\left(t \\right)}\\right) - b^{2} \\left(\\dot{m}_{1}{\\left(t \\right)} \\ddot{m}_{1}{\\left(t \\right)} + \\dot{m}_{2}{\\left(t \\right)} \\ddot{m}_{2}{\\left(t \\right)}\\right) \\left(m_{1}^{2}{\\left(t \\right)} \\left(\\dot{m}_{1}{\\left(t \\right)}\\right)^{2} + 2 m_{1}{\\left(t \\right)} m_{2}{\\left(t \\right)} \\dot{m}_{1}{\\left(t \\right)} \\dot{m}_{2}{\\left(t \\right)} + m_{2}^{2}{\\left(t \\right)} \\left(\\dot{m}_{2}{\\left(t \\right)}\\right)^{2}\\right) + b^{2} \\left(\\left(\\dot{m}_{1}{\\left(t \\right)}\\right)^{2} + \\left(\\dot{m}_{2}{\\left(t \\right)}\\right)^{2}\\right) \\left(m_{1}^{2}{\\left(t \\right)} \\dot{m}_{1}{\\left(t \\right)} \\ddot{m}_{1}{\\left(t \\right)} + m_{1}{\\left(t \\right)} m_{2}{\\left(t \\right)} \\dot{m}_{1}{\\left(t \\right)} \\ddot{m}_{2}{\\left(t \\right)} + m_{1}{\\left(t \\right)} m_{2}{\\left(t \\right)} \\ddot{m}_{1}{\\left(t \\right)} \\dot{m}_{2}{\\left(t \\right)} + m_{1}{\\left(t \\right)} \\left(\\dot{m}_{1}{\\left(t \\right)}\\right)^{3} + m_{1}{\\left(t \\right)} \\dot{m}_{1}{\\left(t \\right)} \\left(\\dot{m}_{2}{\\left(t \\right)}\\right)^{2} + m_{2}^{2}{\\left(t \\right)} \\dot{m}_{2}{\\left(t \\right)} \\ddot{m}_{2}{\\left(t \\right)} + m_{2}{\\left(t \\right)} \\left(\\dot{m}_{1}{\\left(t \\right)}\\right)^{2} \\dot{m}_{2}{\\left(t \\right)} + m_{2}{\\left(t \\right)} \\left(\\dot{m}_{2}{\\left(t \\right)}\\right)^{3}\\right)\\right)}{a^{2} b^{2} \\left(\\left(\\dot{m}_{1}{\\left(t \\right)}\\right)^{2} + \\left(\\dot{m}_{2}{\\left(t \\right)}\\right)^{2}\\right)^{2}}\n"
     ]
    }
   ],
   "source": [
    "# Print koeficientov\n",
    "print(\"Coefficient of x^2:\")\n",
    "A_dot = sp.latex(sp.simplify(sp.diff(A, t)))\n",
    "display(Math(A_dot))\n",
    "print(A_dot)\n",
    "\n",
    "print(\"Coefficient of y^2:\")\n",
    "C_dot = sp.latex(sp.simplify(sp.diff(C, t)))\n",
    "display(Math(C_dot))\n",
    "print(C_dot)\n",
    "\n",
    "print(\"Coefficient of xy:\") \n",
    "B_dot = sp.latex(sp.simplify((sp.diff(B, t))))\n",
    "display(Math(B_dot))\n",
    "print(B_dot)\n",
    "\n",
    "print(\"Coefficient of x:\")\n",
    "D_dot = sp.latex(sp.simplify((sp.diff(D, t))))\n",
    "display(Math(D_dot))\n",
    "print(D_dot)\n",
    "\n",
    "print(\"Coefficient of y:\")\n",
    "E_dot = sp.latex(sp.simplify((sp.diff(E, t))))\n",
    "display(Math(E_dot))\n",
    "print(E_dot)\n",
    "\n",
    "print(\"Coefficient of constant term:\")\n",
    "F_dot = sp.latex(sp.simplify((sp.diff(F, t))))\n",
    "display(Math(F_dot))\n",
    "print(F_dot)"
   ]
  },
  {
   "cell_type": "code",
   "execution_count": 64,
   "metadata": {},
   "outputs": [],
   "source": [
    "import re \n",
    "\n",
    "def first_derivative(input_string):\n",
    "    # Define a regular expression pattern to match \\frac{d}{d t} m_{1}\n",
    "    pattern = r\"\\\\frac{d}{d t} m_\"\n",
    "    \n",
    "    # Replace occurrences of the pattern with \\dot{m}_{1}\n",
    "    output_string = re.sub(pattern, r\"\\\\dot{m}_\", input_string)\n",
    "    \n",
    "    return output_string\n",
    "\n",
    "def second_derivative(input_string):\n",
    "    # Define a regular expression pattern to match \\frac{d^{2}}{d t^{2}} m_{1}\n",
    "    pattern = r\"\\\\frac{d\\^\\{2\\}}{d t\\^\\{2\\}} m_\"\n",
    "    \n",
    "    # Replace occurrences of the pattern with \\ddot{m}_{1}\n",
    "    output_string = re.sub(pattern, r\"\\\\ddot{m}_\", input_string)\n",
    "    \n",
    "    return output_string\n",
    "\n",
    "def parenthesis(input_string):\n",
    "    # Define a regular expression pattern to match \\left( and \\right)\n",
    "    pattern1 = r\"\\\\left\\(\"\n",
    "    pattern2 = r\"\\\\right\\)\"\n",
    "    \n",
    "    # Replace occurrences of the patterns with \\( and \\)\n",
    "    output_string = re.sub(pattern1, r\"(\", input_string)\n",
    "    output_string = re.sub(pattern2, r\")\", output_string)\n",
    "    \n",
    "    return output_string\n",
    "\n",
    "def skip_t(input_string):\n",
    "    # Define a regular expression pattern to match {\\left(t \\right)}\n",
    "    pattern = r\"{\\\\left\\(t \\\\right\\)}\"\n",
    "    \n",
    "    # Remove occurrences of the pattern\n",
    "    output_string = re.sub(pattern, \"\", input_string)\n",
    "    \n",
    "    return output_string\n",
    "\n",
    "# Example usage\n",
    "#input_string = r\"\\frac{2 \\left(a^{2} \\left(\\dot{m}_{1}{\\left(t \\right)} \\ddot{m}_{1}{\\left(t \\right)} + \\dot{m}_{2}{\\left(t \\right)} \\ddot{m}_{2}{\\left(t \\right)}\\right) \\left(- m_{1}^{2}{\\left(t \\right)} \\left(\\dot{m}_{2}{\\left(t \\right)}\\right)^{2} + 2 m_{1}{\\left(t \\right)} m_{2}{\\left(t \\right)} \\dot{m}_{1}{\\left(t \\right)} \\dot{m}_{2}{\\left(t \\right)} - m_{2}^{2}{\\left(t \\right)} \\left(\\dot{m}_{1}{\\left(t \\right)}\\right)^{2}\\right) + a^{2} \\left(\\left(\\dot{m}_{1}{\\left(t \\right)}\\right)^{2} + \\left(\\dot{m}_{2}{\\left(t \\right)}\\right)^{2}\\right) \\left(m_{1}^{2}{\\left(t \\right)} \\dot{m}_{2}{\\left(t \\right)} \\ddot{m}_{2}{\\left(t \\right)} - m_{1}{\\left(t \\right)} m_{2}{\\left(t \\right)} \\dot{m}_{1}{\\left(t \\right)} \\ddot{m}_{2}{\\left(t \\right)} - m_{1}{\\left(t \\right)} m_{2}{\\left(t \\right)} \\ddot{m}_{1}{\\left(t \\right)} \\dot{m}_{2}{\\left(t \\right)} + m_{2}^{2}{\\left(t \\right)} \\dot{m}_{1}{\\left(t \\right)} \\ddot{m}_{1}{\\left(t \\right)}\\right) - b^{2} \\left(\\dot{m}_{1}{\\left(t \\right)} \\ddot{m}_{1}{\\left(t \\right)} + \\dot{m}_{2}{\\left(t \\right)} \\ddot{m}_{2}{\\left(t \\right)}\\right) \\left(m_{1}^{2}{\\left(t \\right)} \\left(\\dot{m}_{1}{\\left(t \\right)}\\right)^{2} + 2 m_{1}{\\left(t \\right)} m_{2}{\\left(t \\right)} \\dot{m}_{1}{\\left(t \\right)} \\dot{m}_{2}{\\left(t \\right)} + m_{2}^{2}{\\left(t \\right)} \\left(\\dot{m}_{2}{\\left(t \\right)}\\right)^{2}\\right) + b^{2} \\left(\\left(\\dot{m}_{1}{\\left(t \\right)}\\right)^{2} + \\left(\\dot{m}_{2}{\\left(t \\right)}\\right)^{2}\\right) \\left(m_{1}^{2}{\\left(t \\right)} \\dot{m}_{1}{\\left(t \\right)} \\ddot{m}_{1}{\\left(t \\right)} + m_{1}{\\left(t \\right)} m_{2}{\\left(t \\right)} \\dot{m}_{1}{\\left(t \\right)} \\ddot{m}_{2}{\\left(t \\right)} + m_{1}{\\left(t \\right)} m_{2}{\\left(t \\right)} \\ddot{m}_{1}{\\left(t \\right)} \\dot{m}_{2}{\\left(t \\right)} + m_{1}{\\left(t \\right)} \\left(\\dot{m}_{1}{\\left(t \\right)}\\right)^{3} + m_{1}{\\left(t \\right)} \\dot{m}_{1}{\\left(t \\right)} \\left(\\dot{m}_{2}{\\left(t \\right)}\\right)^{2} + m_{2}^{2}{\\left(t \\right)} \\dot{m}_{2}{\\left(t \\right)} \\ddot{m}_{2}{\\left(t \\right)} + m_{2}{\\left(t \\right)} \\left(\\dot{m}_{1}{\\left(t \\right)}\\right)^{2} \\dot{m}_{2}{\\left(t \\right)} + m_{2}{\\left(t \\right)} \\left(\\right)}\"\n",
    "#output_string = parenthesis(skip_t((input_string)))\n",
    "#print(output_string)\n"
   ]
  },
  {
   "cell_type": "code",
   "execution_count": 65,
   "metadata": {},
   "outputs": [
    {
     "name": "stdout",
     "output_type": "stream",
     "text": [
      "\\frac{2 (a^{2} \\dot{m}_{1} \\ddot{m}_{2} - a^{2} \\ddot{m}_{1} \\dot{m}_{2} - b^{2} \\dot{m}_{1} \\ddot{m}_{2} + b^{2} \\ddot{m}_{1} \\dot{m}_{2}) \\dot{m}_{1} \\dot{m}_{2}}{a^{2} b^{2} ((\\dot{m}_{1})^{4} + 2 (\\dot{m}_{1})^{2} (\\dot{m}_{2})^{2} + (\\dot{m}_{2})^{4})}\n",
      "\\frac{2 \\cdot (2 a^{2} (\\dot{m}_{1} \\ddot{m}_{1} + \\dot{m}_{2} \\ddot{m}_{2}) \\dot{m}_{1} \\dot{m}_{2} - a^{2} (\\dot{m}_{1} \\ddot{m}_{2} + \\ddot{m}_{1} \\dot{m}_{2}) ((\\dot{m}_{1})^{2} + (\\dot{m}_{2})^{2}) - 2 b^{2} (\\dot{m}_{1} \\ddot{m}_{1} + \\dot{m}_{2} \\ddot{m}_{2}) \\dot{m}_{1} \\dot{m}_{2} + b^{2} (\\dot{m}_{1} \\ddot{m}_{2} + \\ddot{m}_{1} \\dot{m}_{2}) ((\\dot{m}_{1})^{2} + (\\dot{m}_{2})^{2}))}{a^{2} b^{2} ((\\dot{m}_{1})^{2} + (\\dot{m}_{2})^{2})^{2}}\n"
     ]
    }
   ],
   "source": [
    "A_string = parenthesis(skip_t((second_derivative(first_derivative((A_dot))))))\n",
    "print(A_string)\n",
    "\n",
    "B_string = second_derivative(first_derivative(parenthesis(skip_t((B_dot)))))\n",
    "print(B_string)"
   ]
  },
  {
   "cell_type": "code",
   "execution_count": 66,
   "metadata": {},
   "outputs": [
    {
     "name": "stdout",
     "output_type": "stream",
     "text": [
      "\\frac{2 (- a^{2} \\dot{m}_{1} \\ddot{m}_{2} + a^{2} \\ddot{m}_{1} \\dot{m}_{2} + b^{2} \\dot{m}_{1} \\ddot{m}_{2} - b^{2} \\ddot{m}_{1} \\dot{m}_{2}) \\dot{m}_{1} \\dot{m}_{2}}{a^{2} b^{2} ((\\dot{m}_{1})^{4} + 2 (\\dot{m}_{1})^{2} (\\dot{m}_{2})^{2} + (\\dot{m}_{2})^{4})}\n",
      "\\frac{2 \\cdot (2 a^{2} (m_{1} \\dot{m}_{2} - m_{2} \\dot{m}_{1}) (\\dot{m}_{1} \\ddot{m}_{1} + \\dot{m}_{2} \\ddot{m}_{2}) \\dot{m}_{2} + a^{2} ((\\dot{m}_{1})^{2} + (\\dot{m}_{2})^{2}) (- 2 m_{1} \\dot{m}_{2} \\ddot{m}_{2} + m_{2} \\dot{m}_{1} \\ddot{m}_{2} + m_{2} \\ddot{m}_{1} \\dot{m}_{2}) + 2 b^{2} (m_{1} \\dot{m}_{1} + m_{2} \\dot{m}_{2}) (\\dot{m}_{1} \\ddot{m}_{1} + \\dot{m}_{2} \\ddot{m}_{2}) \\dot{m}_{1} - b^{2} ((\\dot{m}_{1})^{2} + (\\dot{m}_{2})^{2}) (2 m_{1} \\dot{m}_{1} \\ddot{m}_{1} + m_{2} \\dot{m}_{1} \\ddot{m}_{2} + m_{2} \\ddot{m}_{1} \\dot{m}_{2} + (\\dot{m}_{1})^{3} + \\dot{m}_{1} (\\dot{m}_{2})^{2}))}{a^{2} b^{2} ((\\dot{m}_{1})^{2} + (\\dot{m}_{2})^{2})^{2}}\n",
      "\\frac{2 \\cdot (2 a^{2} (- m_{1} \\dot{m}_{2} + m_{2} \\dot{m}_{1}) (\\dot{m}_{1} \\ddot{m}_{1} + \\dot{m}_{2} \\ddot{m}_{2}) \\dot{m}_{1} + a^{2} ((\\dot{m}_{1})^{2} + (\\dot{m}_{2})^{2}) (m_{1} \\dot{m}_{1} \\ddot{m}_{2} + m_{1} \\ddot{m}_{1} \\dot{m}_{2} - 2 m_{2} \\dot{m}_{1} \\ddot{m}_{1}) + 2 b^{2} (m_{1} \\dot{m}_{1} + m_{2} \\dot{m}_{2}) (\\dot{m}_{1} \\ddot{m}_{1} + \\dot{m}_{2} \\ddot{m}_{2}) \\dot{m}_{2} - b^{2} ((\\dot{m}_{1})^{2} + (\\dot{m}_{2})^{2}) (m_{1} \\dot{m}_{1} \\ddot{m}_{2} + m_{1} \\ddot{m}_{1} \\dot{m}_{2} + 2 m_{2} \\dot{m}_{2} \\ddot{m}_{2} + (\\dot{m}_{1})^{2} \\dot{m}_{2} + (\\dot{m}_{2})^{3}))}{a^{2} b^{2} ((\\dot{m}_{1})^{2} + (\\dot{m}_{2})^{2})^{2}}\n",
      "\\frac{2 (a^{2} (\\dot{m}_{1} \\ddot{m}_{1} + \\dot{m}_{2} \\ddot{m}_{2}) (- m_{1}^{2} (\\dot{m}_{2})^{2} + 2 m_{1} m_{2} \\dot{m}_{1} \\dot{m}_{2} - m_{2}^{2} (\\dot{m}_{1})^{2}) + a^{2} ((\\dot{m}_{1})^{2} + (\\dot{m}_{2})^{2}) (m_{1}^{2} \\dot{m}_{2} \\ddot{m}_{2} - m_{1} m_{2} \\dot{m}_{1} \\ddot{m}_{2} - m_{1} m_{2} \\ddot{m}_{1} \\dot{m}_{2} + m_{2}^{2} \\dot{m}_{1} \\ddot{m}_{1}) - b^{2} (\\dot{m}_{1} \\ddot{m}_{1} + \\dot{m}_{2} \\ddot{m}_{2}) (m_{1}^{2} (\\dot{m}_{1})^{2} + 2 m_{1} m_{2} \\dot{m}_{1} \\dot{m}_{2} + m_{2}^{2} (\\dot{m}_{2})^{2}) + b^{2} ((\\dot{m}_{1})^{2} + (\\dot{m}_{2})^{2}) (m_{1}^{2} \\dot{m}_{1} \\ddot{m}_{1} + m_{1} m_{2} \\dot{m}_{1} \\ddot{m}_{2} + m_{1} m_{2} \\ddot{m}_{1} \\dot{m}_{2} + m_{1} (\\dot{m}_{1})^{3} + m_{1} \\dot{m}_{1} (\\dot{m}_{2})^{2} + m_{2}^{2} \\dot{m}_{2} \\ddot{m}_{2} + m_{2} (\\dot{m}_{1})^{2} \\dot{m}_{2} + m_{2} (\\dot{m}_{2})^{3}))}{a^{2} b^{2} ((\\dot{m}_{1})^{2} + (\\dot{m}_{2})^{2})^{2}}\n"
     ]
    }
   ],
   "source": [
    "C_string = parenthesis(skip_t((second_derivative(first_derivative((C_dot))))))\n",
    "print(C_string)\n",
    "\n",
    "D_string = second_derivative(first_derivative(parenthesis(skip_t((D_dot)))))\n",
    "print(D_string)\n",
    "\n",
    "E_string = parenthesis(skip_t((second_derivative(first_derivative((E_dot))))))\n",
    "print(E_string)\n",
    "\n",
    "F_string = second_derivative(first_derivative(parenthesis(skip_t((F_dot)))))\n",
    "print(F_string)"
   ]
  }
 ],
 "metadata": {
  "kernelspec": {
   "display_name": "Python 3",
   "language": "python",
   "name": "python3"
  },
  "language_info": {
   "codemirror_mode": {
    "name": "ipython",
    "version": 3
   },
   "file_extension": ".py",
   "mimetype": "text/x-python",
   "name": "python",
   "nbconvert_exporter": "python",
   "pygments_lexer": "ipython3",
   "version": "3.11.5"
  },
  "orig_nbformat": 4
 },
 "nbformat": 4,
 "nbformat_minor": 2
}
